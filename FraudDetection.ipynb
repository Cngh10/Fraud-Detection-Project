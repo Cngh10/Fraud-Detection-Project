{
 "cells": [
  {
   "cell_type": "markdown",
   "id": "d5ef4463-442b-4fb5-9f7e-b07e75539ea3",
   "metadata": {},
   "source": [
    "__CAPSTONE PROJECT ON FRAUD DETECTION__\n"
   ]
  },
  {
   "cell_type": "markdown",
   "id": "161e8e6f-c6ac-4e4c-99ed-6b6b7d483241",
   "metadata": {},
   "source": [
    "In this project, we explore a simulated dataset containing transaction details such as **amount**, **type**, **nameOrig**, **nameDest**, and more, reflecting activities that may involve fraudulent behavior.\n",
    "Our objective is to develop a predictive model capable of accurately identifying fraudulent transactions. Given the significant financial and security risks associated with overlooking a fraudulent case, our primary focus is on ensuring the model detects all potential fraud instances, making **recall** for the positive class (**fraud**) a critical metric."
   ]
  },
  {
   "cell_type": "markdown",
   "id": "613fc7a0-c0cc-4534-a233-34f709309a95",
   "metadata": {},
   "source": [
    "**IMPORTING LIBRARIES**"
   ]
  },
  {
   "cell_type": "code",
   "execution_count": 5,
   "id": "f9d7cadf-604e-4b48-a2a0-ea3f36be879a",
   "metadata": {},
   "outputs": [],
   "source": [
    "import pandas as pd\n",
    "import numpy as np\n",
    "import matplotlib.pyplot as plt\n",
    "import seaborn as sns\n",
    "from sklearn.model_selection import train_test_split\n",
    "from sklearn.ensemble import RandomForestClassifier\n",
    "from sklearn.metrics import classification_report, confusion_matrix\n",
    "from sklearn.preprocessing import StandardScaler"
   ]
  },
  {
   "cell_type": "markdown",
   "id": "d0a7af9f-1d68-4a65-92ea-47ad0f065083",
   "metadata": {},
   "source": [
    "__Load Dataset__"
   ]
  },
  {
   "cell_type": "code",
   "execution_count": 7,
   "id": "ea4f0f2b-c22e-4ac2-b91c-04de4573ec86",
   "metadata": {},
   "outputs": [],
   "source": [
    "df = pd.read_csv('Fraud_Analysis_Dataset.csv')"
   ]
  },
  {
   "cell_type": "code",
   "execution_count": 8,
   "id": "6101f0a4-eb8a-4e95-973c-678ef37db4c0",
   "metadata": {},
   "outputs": [
    {
     "data": {
      "text/html": [
       "<div>\n",
       "<style scoped>\n",
       "    .dataframe tbody tr th:only-of-type {\n",
       "        vertical-align: middle;\n",
       "    }\n",
       "\n",
       "    .dataframe tbody tr th {\n",
       "        vertical-align: top;\n",
       "    }\n",
       "\n",
       "    .dataframe thead th {\n",
       "        text-align: right;\n",
       "    }\n",
       "</style>\n",
       "<table border=\"1\" class=\"dataframe\">\n",
       "  <thead>\n",
       "    <tr style=\"text-align: right;\">\n",
       "      <th></th>\n",
       "      <th>step</th>\n",
       "      <th>type</th>\n",
       "      <th>amount</th>\n",
       "      <th>nameOrig</th>\n",
       "      <th>oldbalanceOrg</th>\n",
       "      <th>newbalanceOrig</th>\n",
       "      <th>nameDest</th>\n",
       "      <th>oldbalanceDest</th>\n",
       "      <th>newbalanceDest</th>\n",
       "      <th>isFraud</th>\n",
       "    </tr>\n",
       "  </thead>\n",
       "  <tbody>\n",
       "    <tr>\n",
       "      <th>0</th>\n",
       "      <td>1</td>\n",
       "      <td>TRANSFER</td>\n",
       "      <td>181.0</td>\n",
       "      <td>C1305486145</td>\n",
       "      <td>181.0</td>\n",
       "      <td>0.0</td>\n",
       "      <td>C553264065</td>\n",
       "      <td>0.0</td>\n",
       "      <td>0.0</td>\n",
       "      <td>1</td>\n",
       "    </tr>\n",
       "    <tr>\n",
       "      <th>1</th>\n",
       "      <td>1</td>\n",
       "      <td>CASH_OUT</td>\n",
       "      <td>181.0</td>\n",
       "      <td>C840083671</td>\n",
       "      <td>181.0</td>\n",
       "      <td>0.0</td>\n",
       "      <td>C38997010</td>\n",
       "      <td>21182.0</td>\n",
       "      <td>0.0</td>\n",
       "      <td>1</td>\n",
       "    </tr>\n",
       "    <tr>\n",
       "      <th>2</th>\n",
       "      <td>1</td>\n",
       "      <td>TRANSFER</td>\n",
       "      <td>2806.0</td>\n",
       "      <td>C1420196421</td>\n",
       "      <td>2806.0</td>\n",
       "      <td>0.0</td>\n",
       "      <td>C972765878</td>\n",
       "      <td>0.0</td>\n",
       "      <td>0.0</td>\n",
       "      <td>1</td>\n",
       "    </tr>\n",
       "    <tr>\n",
       "      <th>3</th>\n",
       "      <td>1</td>\n",
       "      <td>CASH_OUT</td>\n",
       "      <td>2806.0</td>\n",
       "      <td>C2101527076</td>\n",
       "      <td>2806.0</td>\n",
       "      <td>0.0</td>\n",
       "      <td>C1007251739</td>\n",
       "      <td>26202.0</td>\n",
       "      <td>0.0</td>\n",
       "      <td>1</td>\n",
       "    </tr>\n",
       "    <tr>\n",
       "      <th>4</th>\n",
       "      <td>1</td>\n",
       "      <td>TRANSFER</td>\n",
       "      <td>20128.0</td>\n",
       "      <td>C137533655</td>\n",
       "      <td>20128.0</td>\n",
       "      <td>0.0</td>\n",
       "      <td>C1848415041</td>\n",
       "      <td>0.0</td>\n",
       "      <td>0.0</td>\n",
       "      <td>1</td>\n",
       "    </tr>\n",
       "  </tbody>\n",
       "</table>\n",
       "</div>"
      ],
      "text/plain": [
       "   step      type   amount     nameOrig  oldbalanceOrg  newbalanceOrig  \\\n",
       "0     1  TRANSFER    181.0  C1305486145          181.0             0.0   \n",
       "1     1  CASH_OUT    181.0   C840083671          181.0             0.0   \n",
       "2     1  TRANSFER   2806.0  C1420196421         2806.0             0.0   \n",
       "3     1  CASH_OUT   2806.0  C2101527076         2806.0             0.0   \n",
       "4     1  TRANSFER  20128.0   C137533655        20128.0             0.0   \n",
       "\n",
       "      nameDest  oldbalanceDest  newbalanceDest  isFraud  \n",
       "0   C553264065             0.0             0.0        1  \n",
       "1    C38997010         21182.0             0.0        1  \n",
       "2   C972765878             0.0             0.0        1  \n",
       "3  C1007251739         26202.0             0.0        1  \n",
       "4  C1848415041             0.0             0.0        1  "
      ]
     },
     "execution_count": 8,
     "metadata": {},
     "output_type": "execute_result"
    }
   ],
   "source": [
    "df.head()"
   ]
  },
  {
   "cell_type": "code",
   "execution_count": 9,
   "id": "f60b2c28-fa37-4a1e-bd2d-af2d6b67dbbf",
   "metadata": {},
   "outputs": [
    {
     "data": {
      "text/html": [
       "<div>\n",
       "<style scoped>\n",
       "    .dataframe tbody tr th:only-of-type {\n",
       "        vertical-align: middle;\n",
       "    }\n",
       "\n",
       "    .dataframe tbody tr th {\n",
       "        vertical-align: top;\n",
       "    }\n",
       "\n",
       "    .dataframe thead th {\n",
       "        text-align: right;\n",
       "    }\n",
       "</style>\n",
       "<table border=\"1\" class=\"dataframe\">\n",
       "  <thead>\n",
       "    <tr style=\"text-align: right;\">\n",
       "      <th></th>\n",
       "      <th>step</th>\n",
       "      <th>amount</th>\n",
       "      <th>oldbalanceOrg</th>\n",
       "      <th>newbalanceOrig</th>\n",
       "      <th>oldbalanceDest</th>\n",
       "      <th>newbalanceDest</th>\n",
       "      <th>isFraud</th>\n",
       "    </tr>\n",
       "  </thead>\n",
       "  <tbody>\n",
       "    <tr>\n",
       "      <th>count</th>\n",
       "      <td>11142.000000</td>\n",
       "      <td>1.114200e+04</td>\n",
       "      <td>1.114200e+04</td>\n",
       "      <td>1.114200e+04</td>\n",
       "      <td>1.114200e+04</td>\n",
       "      <td>1.114200e+04</td>\n",
       "      <td>11142.000000</td>\n",
       "    </tr>\n",
       "    <tr>\n",
       "      <th>mean</th>\n",
       "      <td>8.717645</td>\n",
       "      <td>2.131915e+05</td>\n",
       "      <td>9.241173e+05</td>\n",
       "      <td>8.249576e+05</td>\n",
       "      <td>8.883541e+05</td>\n",
       "      <td>1.103211e+06</td>\n",
       "      <td>0.102495</td>\n",
       "    </tr>\n",
       "    <tr>\n",
       "      <th>std</th>\n",
       "      <td>16.067479</td>\n",
       "      <td>7.600650e+05</td>\n",
       "      <td>2.143004e+06</td>\n",
       "      <td>2.089894e+06</td>\n",
       "      <td>2.601376e+06</td>\n",
       "      <td>2.982447e+06</td>\n",
       "      <td>0.303312</td>\n",
       "    </tr>\n",
       "    <tr>\n",
       "      <th>min</th>\n",
       "      <td>1.000000</td>\n",
       "      <td>2.390000e+00</td>\n",
       "      <td>0.000000e+00</td>\n",
       "      <td>0.000000e+00</td>\n",
       "      <td>0.000000e+00</td>\n",
       "      <td>0.000000e+00</td>\n",
       "      <td>0.000000</td>\n",
       "    </tr>\n",
       "    <tr>\n",
       "      <th>25%</th>\n",
       "      <td>2.000000</td>\n",
       "      <td>4.946618e+03</td>\n",
       "      <td>4.270000e+02</td>\n",
       "      <td>0.000000e+00</td>\n",
       "      <td>0.000000e+00</td>\n",
       "      <td>0.000000e+00</td>\n",
       "      <td>0.000000</td>\n",
       "    </tr>\n",
       "    <tr>\n",
       "      <th>50%</th>\n",
       "      <td>6.000000</td>\n",
       "      <td>1.676126e+04</td>\n",
       "      <td>2.816950e+04</td>\n",
       "      <td>4.420605e+03</td>\n",
       "      <td>0.000000e+00</td>\n",
       "      <td>0.000000e+00</td>\n",
       "      <td>0.000000</td>\n",
       "    </tr>\n",
       "    <tr>\n",
       "      <th>75%</th>\n",
       "      <td>7.000000</td>\n",
       "      <td>1.543366e+05</td>\n",
       "      <td>3.040855e+05</td>\n",
       "      <td>1.114126e+05</td>\n",
       "      <td>2.711555e+05</td>\n",
       "      <td>3.186374e+05</td>\n",
       "      <td>0.000000</td>\n",
       "    </tr>\n",
       "    <tr>\n",
       "      <th>max</th>\n",
       "      <td>95.000000</td>\n",
       "      <td>1.000000e+07</td>\n",
       "      <td>1.990000e+07</td>\n",
       "      <td>1.300000e+07</td>\n",
       "      <td>3.300000e+07</td>\n",
       "      <td>3.460000e+07</td>\n",
       "      <td>1.000000</td>\n",
       "    </tr>\n",
       "  </tbody>\n",
       "</table>\n",
       "</div>"
      ],
      "text/plain": [
       "               step        amount  oldbalanceOrg  newbalanceOrig  \\\n",
       "count  11142.000000  1.114200e+04   1.114200e+04    1.114200e+04   \n",
       "mean       8.717645  2.131915e+05   9.241173e+05    8.249576e+05   \n",
       "std       16.067479  7.600650e+05   2.143004e+06    2.089894e+06   \n",
       "min        1.000000  2.390000e+00   0.000000e+00    0.000000e+00   \n",
       "25%        2.000000  4.946618e+03   4.270000e+02    0.000000e+00   \n",
       "50%        6.000000  1.676126e+04   2.816950e+04    4.420605e+03   \n",
       "75%        7.000000  1.543366e+05   3.040855e+05    1.114126e+05   \n",
       "max       95.000000  1.000000e+07   1.990000e+07    1.300000e+07   \n",
       "\n",
       "       oldbalanceDest  newbalanceDest       isFraud  \n",
       "count    1.114200e+04    1.114200e+04  11142.000000  \n",
       "mean     8.883541e+05    1.103211e+06      0.102495  \n",
       "std      2.601376e+06    2.982447e+06      0.303312  \n",
       "min      0.000000e+00    0.000000e+00      0.000000  \n",
       "25%      0.000000e+00    0.000000e+00      0.000000  \n",
       "50%      0.000000e+00    0.000000e+00      0.000000  \n",
       "75%      2.711555e+05    3.186374e+05      0.000000  \n",
       "max      3.300000e+07    3.460000e+07      1.000000  "
      ]
     },
     "execution_count": 9,
     "metadata": {},
     "output_type": "execute_result"
    }
   ],
   "source": [
    "df.describe()"
   ]
  },
  {
   "cell_type": "code",
   "execution_count": 10,
   "id": "b69fa96f-c71b-48ea-916f-58a0f03e2ea4",
   "metadata": {},
   "outputs": [
    {
     "name": "stdout",
     "output_type": "stream",
     "text": [
      "<class 'pandas.core.frame.DataFrame'>\n",
      "RangeIndex: 11142 entries, 0 to 11141\n",
      "Data columns (total 10 columns):\n",
      " #   Column          Non-Null Count  Dtype  \n",
      "---  ------          --------------  -----  \n",
      " 0   step            11142 non-null  int64  \n",
      " 1   type            11142 non-null  object \n",
      " 2   amount          11142 non-null  float64\n",
      " 3   nameOrig        11142 non-null  object \n",
      " 4   oldbalanceOrg   11142 non-null  float64\n",
      " 5   newbalanceOrig  11142 non-null  float64\n",
      " 6   nameDest        11142 non-null  object \n",
      " 7   oldbalanceDest  11142 non-null  float64\n",
      " 8   newbalanceDest  11142 non-null  float64\n",
      " 9   isFraud         11142 non-null  int64  \n",
      "dtypes: float64(5), int64(2), object(3)\n",
      "memory usage: 870.6+ KB\n"
     ]
    }
   ],
   "source": [
    "df.info()"
   ]
  },
  {
   "cell_type": "markdown",
   "id": "0c474a18-bbfc-48f8-94d5-30a7cf9c03ee",
   "metadata": {},
   "source": [
    "__we can see, The dataset consist of 11142 entries ranging from 0 to 11141\n",
    "Total columns=10\n",
    "each column's data types are given , 5 of them are float, 2 of them are integer and 3 of them are objects or strings__"
   ]
  },
  {
   "cell_type": "code",
   "execution_count": 12,
   "id": "ac6411a1-afec-4580-aeb8-e8372ccdf00d",
   "metadata": {},
   "outputs": [
    {
     "name": "stdout",
     "output_type": "stream",
     "text": [
      "\n",
      "Column Names: ['step', 'type', 'amount', 'nameOrig', 'oldbalanceOrg', 'newbalanceOrig', 'nameDest', 'oldbalanceDest', 'newbalanceDest', 'isFraud']\n"
     ]
    }
   ],
   "source": [
    "print(\"\\nColumn Names:\", df.columns.tolist())"
   ]
  },
  {
   "cell_type": "code",
   "execution_count": 13,
   "id": "d5744262-697f-48fc-ad9d-4c4842ecdff1",
   "metadata": {},
   "outputs": [
    {
     "name": "stdout",
     "output_type": "stream",
     "text": [
      "\n",
      "Missing Values:\n",
      " step              0\n",
      "type              0\n",
      "amount            0\n",
      "nameOrig          0\n",
      "oldbalanceOrg     0\n",
      "newbalanceOrig    0\n",
      "nameDest          0\n",
      "oldbalanceDest    0\n",
      "newbalanceDest    0\n",
      "isFraud           0\n",
      "dtype: int64\n"
     ]
    }
   ],
   "source": [
    "print(\"\\nMissing Values:\\n\", df.isnull().sum())"
   ]
  },
  {
   "cell_type": "code",
   "execution_count": 14,
   "id": "d9755183-1b28-4086-a91b-6caf2f3f9a29",
   "metadata": {},
   "outputs": [
    {
     "name": "stdout",
     "output_type": "stream",
     "text": [
      "0           181.00\n",
      "1           181.00\n",
      "2          2806.00\n",
      "3          2806.00\n",
      "4         20128.00\n",
      "           ...    \n",
      "11137      6393.71\n",
      "11138    298799.54\n",
      "11139    423159.63\n",
      "11140      1094.03\n",
      "11141      9235.58\n",
      "Name: amount, Length: 11142, dtype: float64\n"
     ]
    }
   ],
   "source": [
    "print(df['amount'])"
   ]
  },
  {
   "cell_type": "markdown",
   "id": "87cb50e9-3bc3-434f-b548-0b746ab55506",
   "metadata": {},
   "source": [
    "**There is no missing value in the dataset**"
   ]
  },
  {
   "cell_type": "markdown",
   "id": "9b4a33dc-3262-4e35-b1a4-2cc24edc2a80",
   "metadata": {},
   "source": [
    "Even though there is no missing value i have tried filling the missing value with **Median** here, just for remebering the steps "
   ]
  },
  {
   "cell_type": "code",
   "execution_count": 17,
   "id": "1a489011-37ef-48f5-911d-ce42f22726bb",
   "metadata": {},
   "outputs": [],
   "source": [
    "df['amount'] = df['amount'].fillna(df['amount'].median())"
   ]
  },
  {
   "cell_type": "code",
   "execution_count": 18,
   "id": "eeb7eb9a-e5eb-489d-8250-96e2bb6ddd3f",
   "metadata": {},
   "outputs": [
    {
     "name": "stdout",
     "output_type": "stream",
     "text": [
      "missing value after filling:\n",
      " step              0\n",
      "type              0\n",
      "amount            0\n",
      "nameOrig          0\n",
      "oldbalanceOrg     0\n",
      "newbalanceOrig    0\n",
      "nameDest          0\n",
      "oldbalanceDest    0\n",
      "newbalanceDest    0\n",
      "isFraud           0\n",
      "dtype: int64\n"
     ]
    }
   ],
   "source": [
    "print(\"missing value after filling:\\n\", df.isnull().sum())"
   ]
  },
  {
   "cell_type": "code",
   "execution_count": 19,
   "id": "68ed1384-a393-41be-90fb-b30061f0f0d8",
   "metadata": {},
   "outputs": [
    {
     "name": "stdout",
     "output_type": "stream",
     "text": [
      "          amount\n",
      "0         181.00\n",
      "1         181.00\n",
      "2        2806.00\n",
      "3        2806.00\n",
      "4       20128.00\n",
      "...          ...\n",
      "11137    6393.71\n",
      "11138  298799.54\n",
      "11139  423159.63\n",
      "11140    1094.03\n",
      "11141    9235.58\n",
      "\n",
      "[11142 rows x 1 columns]\n"
     ]
    }
   ],
   "source": [
    "print(df[['amount']])"
   ]
  },
  {
   "cell_type": "code",
   "execution_count": 20,
   "id": "22b18f2c-018e-4986-9105-75c1c3273dd4",
   "metadata": {},
   "outputs": [],
   "source": [
    "duplicates = df[df.duplicated()]"
   ]
  },
  {
   "cell_type": "code",
   "execution_count": 21,
   "id": "0c0f305c-0219-43b7-b51a-3924e0c1b4e7",
   "metadata": {},
   "outputs": [
    {
     "name": "stdout",
     "output_type": "stream",
     "text": [
      "Empty DataFrame\n",
      "Columns: [step, type, amount, nameOrig, oldbalanceOrg, newbalanceOrig, nameDest, oldbalanceDest, newbalanceDest, isFraud]\n",
      "Index: []\n"
     ]
    }
   ],
   "source": [
    "print(duplicates)"
   ]
  },
  {
   "cell_type": "code",
   "execution_count": 22,
   "id": "00d2b5e7-5227-4f9b-8b87-e667e02cd524",
   "metadata": {},
   "outputs": [
    {
     "name": "stdout",
     "output_type": "stream",
     "text": [
      "0\n"
     ]
    }
   ],
   "source": [
    "print(df.duplicated().sum())"
   ]
  },
  {
   "cell_type": "markdown",
   "id": "4f1b8064-6374-45c0-98c9-4825c8f8ebbc",
   "metadata": {},
   "source": [
    "**The dataset has no duplicate rows based on all columns.**"
   ]
  },
  {
   "cell_type": "code",
   "execution_count": 24,
   "id": "ca12d18f-28de-46d0-95dc-968bb057476e",
   "metadata": {},
   "outputs": [
    {
     "name": "stdout",
     "output_type": "stream",
     "text": [
      "Number of rows after removing duplicates: 11142\n"
     ]
    }
   ],
   "source": [
    "df = df.drop_duplicates()\n",
    "print(\"Number of rows after removing duplicates:\", len(df))"
   ]
  },
  {
   "cell_type": "markdown",
   "id": "85eaa0bf-4826-4094-88c8-a45bde97a897",
   "metadata": {},
   "source": [
    "**No duplicates value**"
   ]
  },
  {
   "cell_type": "markdown",
   "id": "0223da69-843a-4139-91fb-fbb6e0d93be1",
   "metadata": {},
   "source": [
    "**Next step:**\n",
    "\n",
    "\n",
    "**EDA(Exploratory Data Analaysis)**\n",
    "\n",
    "\n",
    "EDA is an initial step in data analysis where you explore a dataset to understand its main characteristics, uncover patterns, spot anomalies, and formulate hypotheses."
   ]
  },
  {
   "cell_type": "code",
   "execution_count": 27,
   "id": "e43271d4-b883-4787-9f00-d1f8c23f002d",
   "metadata": {},
   "outputs": [
    {
     "name": "stdout",
     "output_type": "stream",
     "text": [
      "Dataset Info:\n",
      "<class 'pandas.core.frame.DataFrame'>\n",
      "RangeIndex: 11142 entries, 0 to 11141\n",
      "Data columns (total 10 columns):\n",
      " #   Column          Non-Null Count  Dtype  \n",
      "---  ------          --------------  -----  \n",
      " 0   step            11142 non-null  int64  \n",
      " 1   type            11142 non-null  object \n",
      " 2   amount          11142 non-null  float64\n",
      " 3   nameOrig        11142 non-null  object \n",
      " 4   oldbalanceOrg   11142 non-null  float64\n",
      " 5   newbalanceOrig  11142 non-null  float64\n",
      " 6   nameDest        11142 non-null  object \n",
      " 7   oldbalanceDest  11142 non-null  float64\n",
      " 8   newbalanceDest  11142 non-null  float64\n",
      " 9   isFraud         11142 non-null  int64  \n",
      "dtypes: float64(5), int64(2), object(3)\n",
      "memory usage: 870.6+ KB\n",
      "None\n",
      "\n",
      "Basic Statistics:\n",
      "               step        amount  oldbalanceOrg  newbalanceOrig  \\\n",
      "count  11142.000000  1.114200e+04   1.114200e+04    1.114200e+04   \n",
      "mean       8.717645  2.131915e+05   9.241173e+05    8.249576e+05   \n",
      "std       16.067479  7.600650e+05   2.143004e+06    2.089894e+06   \n",
      "min        1.000000  2.390000e+00   0.000000e+00    0.000000e+00   \n",
      "25%        2.000000  4.946618e+03   4.270000e+02    0.000000e+00   \n",
      "50%        6.000000  1.676126e+04   2.816950e+04    4.420605e+03   \n",
      "75%        7.000000  1.543366e+05   3.040855e+05    1.114126e+05   \n",
      "max       95.000000  1.000000e+07   1.990000e+07    1.300000e+07   \n",
      "\n",
      "       oldbalanceDest  newbalanceDest       isFraud  \n",
      "count    1.114200e+04    1.114200e+04  11142.000000  \n",
      "mean     8.883541e+05    1.103211e+06      0.102495  \n",
      "std      2.601376e+06    2.982447e+06      0.303312  \n",
      "min      0.000000e+00    0.000000e+00      0.000000  \n",
      "25%      0.000000e+00    0.000000e+00      0.000000  \n",
      "50%      0.000000e+00    0.000000e+00      0.000000  \n",
      "75%      2.711555e+05    3.186374e+05      0.000000  \n",
      "max      3.300000e+07    3.460000e+07      1.000000  \n",
      "\n",
      "Missing Values per Column:\n",
      "step              0\n",
      "type              0\n",
      "amount            0\n",
      "nameOrig          0\n",
      "oldbalanceOrg     0\n",
      "newbalanceOrig    0\n",
      "nameDest          0\n",
      "oldbalanceDest    0\n",
      "newbalanceDest    0\n",
      "isFraud           0\n",
      "dtype: int64\n"
     ]
    }
   ],
   "source": [
    "print(\"Dataset Info:\")\n",
    "print(df.info())\n",
    "print(\"\\nBasic Statistics:\")\n",
    "print(df.describe())\n",
    "print(\"\\nMissing Values per Column:\")\n",
    "print(df.isnull().sum())"
   ]
  },
  {
   "cell_type": "markdown",
   "id": "dde25b11-6800-45fc-8827-a8a8890ead67",
   "metadata": {},
   "source": [
    "**Distribution of Fraud vs Non-Fraud Transaction**\n",
    "\n",
    "visualize the distribution of the \"isFraud\" column to see the class balance."
   ]
  },
  {
   "cell_type": "code",
   "execution_count": 29,
   "id": "405d4abc-c785-4e94-821b-763d3f49e790",
   "metadata": {},
   "outputs": [
    {
     "data": {
      "image/png": "[encoded data removed]",
      "text/plain": [
       "<Figure size 800x600 with 1 Axes>"
      ]
     },
     "metadata": {},
     "output_type": "display_data"
    }
   ],
   "source": [
    "plt.figure(figsize=(8, 6))\n",
    "sns.countplot(x='isFraud', data=df)\n",
    "plt.title('Distribution of Fraud vs. Non-Fraud Transactions')\n",
    "plt.xlabel('Is Fraud (0 = No, 1 = Yes)')\n",
    "plt.ylabel('Count')\n",
    "plt.show()"
   ]
  },
  {
   "cell_type": "code",
   "execution_count": 30,
   "id": "11e6e568-797d-496f-9c43-d750beffd1fd",
   "metadata": {},
   "outputs": [
    {
     "name": "stdout",
     "output_type": "stream",
     "text": [
      "Fraud Percentage: 10.25%\n"
     ]
    }
   ],
   "source": [
    "fraud_percentage = df['isFraud'].mean() * 100\n",
    "print(f\"Fraud Percentage: {fraud_percentage:.2f}%\")"
   ]
  },
  {
   "cell_type": "markdown",
   "id": "49e90dbd-557e-4f4d-b490-d7909f8b4bd5",
   "metadata": {},
   "source": [
    "**OUTLIERS AND FEATURES**\n",
    "\n",
    "Explorng how numeric features (e.g., amount, oldbalanceOrg, newbalanceOrig) differ between fraud and non-fraud transactions using box plots. This will help us identify patterns or outliers that might be indicative of fraud.\n"
   ]
  },
  {
   "cell_type": "code",
   "execution_count": 32,
   "id": "5b67c0d5-0975-46d5-9c54-fc763229a513",
   "metadata": {
    "scrolled": true
   },
   "outputs": [
    {
     "data": {
      "image/png": "[encoded data removed]",
      "text/plain": [
       "<Figure size 1200x800 with 6 Axes>"
      ]
     },
     "metadata": {},
     "output_type": "display_data"
    }
   ],
   "source": [
    "numeric_cols = df.select_dtypes(include=['int64', 'float64']).columns.drop('isFraud')  # Exclude isFraud\n",
    "\n",
    "plt.figure(figsize=(12, 8))\n",
    "for i, col in enumerate(numeric_cols, 1):\n",
    "    plt.subplot(2, 3, i)\n",
    "    sns.boxplot(x='isFraud', y=col, data=df)\n",
    "    plt.title(f'{col} by Fraud Status')\n",
    "    plt.xlabel('Is Fraud (0 = No, 1 = Yes)')\n",
    "    plt.ylabel(col)\n",
    "plt.tight_layout()\n",
    "plt.show()"
   ]
  },
  {
   "cell_type": "code",
   "execution_count": 33,
   "id": "ab2e8773-d1b6-4211-be52-fff0ef4fd53e",
   "metadata": {},
   "outputs": [],
   "source": [
    "df_encoded = pd.get_dummies(df, columns=['type'])"
   ]
  },
  {
   "cell_type": "code",
   "execution_count": 34,
   "id": "b65e8d0a-ecac-4f7f-96f6-3a4a0aefd1d8",
   "metadata": {},
   "outputs": [
    {
     "data": {
      "image/png": "[encoded data removed]",
      "text/plain": [
       "<Figure size 1000x600 with 1 Axes>"
      ]
     },
     "metadata": {},
     "output_type": "display_data"
    }
   ],
   "source": [
    "import matplotlib.pyplot as plt\n",
    "import seaborn as sns\n",
    "plt.figure(figsize=(10, 6))\n",
    "df_encoded[['type_CASH_IN', 'type_CASH_OUT', 'type_DEBIT', 'type_PAYMENT', 'type_TRANSFER']].sum().plot(kind='bar')\n",
    "plt.title('Distribution of Transaction Types')\n",
    "plt.xlabel('Transaction Type')\n",
    "plt.ylabel('Count')\n",
    "plt.show()"
   ]
  },
  {
   "cell_type": "code",
   "execution_count": 35,
   "id": "49794af7-513d-4bf2-8ea6-f7bd2a71ea29",
   "metadata": {},
   "outputs": [
    {
     "data": {
      "image/png": "[encoded data removed]",
      "text/plain": [
       "<Figure size 1000x600 with 1 Axes>"
      ]
     },
     "metadata": {},
     "output_type": "display_data"
    }
   ],
   "source": [
    "# Plot the distribution of transaction amounts\n",
    "plt.figure(figsize=(10, 6))\n",
    "sns.histplot(df_encoded['amount'], bins=50, kde=True)\n",
    "plt.title('Distribution of Transaction Amounts')\n",
    "plt.xlabel('Amount')\n",
    "plt.ylabel('Frequency')\n",
    "plt.show()"
   ]
  },
  {
   "cell_type": "code",
   "execution_count": 36,
   "id": "87491693-9564-4f32-829c-b4f9bd4904e0",
   "metadata": {},
   "outputs": [],
   "source": [
    "correlation_matrix = df[numeric_cols].corr()"
   ]
  },
  {
   "cell_type": "code",
   "execution_count": 37,
   "id": "37fc4da3-2105-4428-b6f4-61ae0fd2688b",
   "metadata": {},
   "outputs": [
    {
     "data": {
      "image/png": "[encoded data removed]",
      "text/plain": [
       "<Figure size 1000x800 with 2 Axes>"
      ]
     },
     "metadata": {},
     "output_type": "display_data"
    }
   ],
   "source": [
    "plt.figure(figsize=(10, 8))\n",
    "sns.heatmap(correlation_matrix, annot=True, cmap='coolwarm', vmin=-1, vmax=1, center=0)\n",
    "plt.title('Correlation Matrix of Numerical Features')\n",
    "plt.show()"
   ]
  },
  {
   "cell_type": "markdown",
   "id": "a1b23db1-b5fe-4f6f-a633-e63fa4edd501",
   "metadata": {},
   "source": [
    "**FEATURES ENGINEERING**"
   ]
  },
  {
   "cell_type": "markdown",
   "id": "05267f22-18dd-49fe-bfc1-b51718f84a9b",
   "metadata": {},
   "source": [
    "**Distribution of type by Fraud Status**\n",
    "\n",
    "The bar chart shows the count of each type category, split by isFraud (0 = No, 1 = Yes).\n",
    "Observations:\n",
    "TRANSFER: Large blue bar (non-fraud) and a smaller orange bar (fraud), indicating some fraud cases.\n",
    "CASH_OUT: Significant blue bar (non-fraud) and a notable orange bar (fraud), suggesting a higher fraud proportion.\n",
    "CASH_IN, DEBIT, and PAYMENT: Mostly blue (non-fraud), with minimal or no orange (fraud)."
   ]
  },
  {
   "cell_type": "code",
   "execution_count": 40,
   "id": "3a6eb5c2-4485-4c0f-aba5-200900f6f63d",
   "metadata": {},
   "outputs": [
    {
     "name": "stdout",
     "output_type": "stream",
     "text": [
      "\n",
      "Unique values in type:\n",
      "type\n",
      "PAYMENT     5510\n",
      "CASH_IN     1951\n",
      "CASH_OUT    1871\n",
      "TRANSFER    1464\n",
      "DEBIT        346\n",
      "Name: count, dtype: int64\n"
     ]
    },
    {
     "data": {
      "image/png": "[encoded data removed]",
      "text/plain": [
       "<Figure size 1000x600 with 1 Axes>"
      ]
     },
     "metadata": {},
     "output_type": "display_data"
    },
    {
     "name": "stdout",
     "output_type": "stream",
     "text": [
      "\n",
      "Unique values in nameOrig:\n",
      "nameOrig\n",
      "C1305486145    1\n",
      "C479078480     1\n",
      "C1602363550    1\n",
      "C1365013293    1\n",
      "C1525186016    1\n",
      "C1364051444    1\n",
      "C2049210129    1\n",
      "C1225830367    1\n",
      "C1984803180    1\n",
      "C1170952967    1\n",
      "Name: count, dtype: int64\n"
     ]
    },
    {
     "data": {
      "image/png": "[encoded data removed]",
      "text/plain": [
       "<Figure size 1000x600 with 1 Axes>"
      ]
     },
     "metadata": {},
     "output_type": "display_data"
    },
    {
     "name": "stdout",
     "output_type": "stream",
     "text": [
      "\n",
      "Unique values in nameDest:\n",
      "nameDest\n",
      "C985934102     62\n",
      "C1590550415    52\n",
      "C1286084959    50\n",
      "C1899073220    44\n",
      "C977993101     44\n",
      "C451111351     43\n",
      "C1782113663    43\n",
      "C2083562754    41\n",
      "C1789550256    40\n",
      "C1816757085    40\n",
      "Name: count, dtype: int64\n"
     ]
    },
    {
     "data": {
      "image/png": "[encoded data removed]",
      "text/plain": [
       "<Figure size 1000x600 with 1 Axes>"
      ]
     },
     "metadata": {},
     "output_type": "display_data"
    }
   ],
   "source": [
    "categorical_cols = df.select_dtypes(include=['object']).columns\n",
    "\n",
    "for col in categorical_cols:\n",
    "    print(f\"\\nUnique values in {col}:\")\n",
    "    print(df[col].value_counts().head(10))  # Top 10 values to avoid clutter\n",
    "    plt.figure(figsize=(10, 6))\n",
    "    sns.countplot(x=col, hue='isFraud', data=df)\n",
    "    plt.title(f'Distribution of {col} by Fraud Status')\n",
    "    plt.xticks(rotation=45)\n",
    "    plt.show()"
   ]
  },
  {
   "cell_type": "code",
   "execution_count": 41,
   "id": "60c93a11-bd1e-4420-a7bb-b2e35780d0a4",
   "metadata": {},
   "outputs": [],
   "source": [
    "categorical_cols = df.select_dtypes(include=['object']).columns"
   ]
  },
  {
   "cell_type": "code",
   "execution_count": 42,
   "id": "404ffec7-b1e4-4ba3-bee5-be8cfbab2b63",
   "metadata": {},
   "outputs": [
    {
     "name": "stdout",
     "output_type": "stream",
     "text": [
      "\n",
      "Univariate Analysis for type:\n",
      "\n",
      "Univariate Analysis for nameOrig:\n",
      "\n",
      "Univariate Analysis for nameDest:\n"
     ]
    }
   ],
   "source": [
    "for col in categorical_cols:\n",
    "    print(f\"\\nUnivariate Analysis for {col}:\")"
   ]
  },
  {
   "cell_type": "code",
   "execution_count": 43,
   "id": "e3b0994c-0daa-42d5-b048-5f5155b428f6",
   "metadata": {},
   "outputs": [
    {
     "name": "stdout",
     "output_type": "stream",
     "text": [
      "nameDest\n",
      "C985934102     62\n",
      "C1590550415    52\n",
      "C1286084959    50\n",
      "C1899073220    44\n",
      "C977993101     44\n",
      "C451111351     43\n",
      "C1782113663    43\n",
      "C2083562754    41\n",
      "C1789550256    40\n",
      "C1816757085    40\n",
      "Name: count, dtype: int64\n"
     ]
    }
   ],
   "source": [
    "freq_table = df[col].value_counts().head(10)  # Top 10 categories to avoid clutter\n",
    "print(freq_table)"
   ]
  },
  {
   "cell_type": "code",
   "execution_count": 44,
   "id": "b29c66bc-40c7-410a-81ba-15d21bd4990d",
   "metadata": {},
   "outputs": [
    {
     "data": {
      "image/png": "[encoded data removed]",
      "text/plain": [
       "<Figure size 1000x600 with 1 Axes>"
      ]
     },
     "metadata": {},
     "output_type": "display_data"
    }
   ],
   "source": [
    "plt.figure(figsize=(10, 6))\n",
    "sns.countplot(x=col, data=df, order=freq_table.index)\n",
    "plt.title(f'Univariate Distribution of {col}')\n",
    "plt.xlabel(col)\n",
    "plt.ylabel('Count')\n",
    "plt.xticks(rotation=45)\n",
    "plt.show()"
   ]
  },
  {
   "cell_type": "code",
   "execution_count": 45,
   "id": "2f9ca8fb-2085-4a53-a7ce-bf1543ca6f85",
   "metadata": {},
   "outputs": [
    {
     "name": "stdout",
     "output_type": "stream",
     "text": [
      "Percentage Distribution (Top 10):\n",
      "nameDest\n",
      "C985934102     0.56\n",
      "C1590550415    0.47\n",
      "C1286084959    0.45\n",
      "C1899073220    0.39\n",
      "C977993101     0.39\n",
      "C451111351     0.39\n",
      "C1782113663    0.39\n",
      "C2083562754    0.37\n",
      "C1789550256    0.36\n",
      "C1816757085    0.36\n",
      "Name: count, dtype: float64\n"
     ]
    }
   ],
   "source": [
    "print(f\"Percentage Distribution (Top 10):\")\n",
    "print((freq_table / len(df) * 100).round(2))"
   ]
  },
  {
   "cell_type": "markdown",
   "id": "b4683906-6a7c-4eba-a891-873bbc33dcff",
   "metadata": {},
   "source": []
  },
  {
   "cell_type": "markdown",
   "id": "700229ae-f257-47e6-89cb-878ab2f8c9d9",
   "metadata": {},
   "source": [
    "**PREPROCESSING**"
   ]
  },
  {
   "cell_type": "code",
   "execution_count": 48,
   "id": "2cca533a-74a3-4a20-a7e5-9044e792d163",
   "metadata": {},
   "outputs": [
    {
     "name": "stdout",
     "output_type": "stream",
     "text": [
      "First few rows after standardization:\n",
      "       nameOrig     nameDest\n",
      "0  C1305486145   C553264065\n",
      "1   C840083671    C38997010\n",
      "2  C1420196421   C972765878\n",
      "3  C2101527076  C1007251739\n",
      "4   C137533655  C1848415041\n"
     ]
    }
   ],
   "source": [
    "df['nameOrig'] = df['nameOrig'].str.upper()\n",
    "df['nameDest'] = df['nameDest'].str.upper()\n",
    "print(\"First few rows after standardization:\\n\", df[['nameOrig', 'nameDest']].head())"
   ]
  },
  {
   "cell_type": "markdown",
   "id": "e1498727-9e8b-41a9-86f5-12e061aa80d7",
   "metadata": {},
   "source": [
    "**OUTLIERS**"
   ]
  },
  {
   "cell_type": "markdown",
   "id": "49587efa-72c3-43ba-8fb0-2b6a3207edbc",
   "metadata": {},
   "source": [
    "**OUTLIERS**"
   ]
  },
  {
   "cell_type": "code",
   "execution_count": 51,
   "id": "2a95bba6-baf3-4f0d-8a86-2595ecebf18d",
   "metadata": {},
   "outputs": [],
   "source": [
    "def cap_outliers(df, column):\n",
    "    Q1 = df[column].quantile(0.25)\n",
    "    Q3 = df[column].quantile(0.75)\n",
    "    IQR = Q3 - Q1\n",
    "    lower_bound = Q1 - 1.5 * IQR\n",
    "    upper_bound = Q3 + 1.5 * IQR\n",
    "    df[column] = df[column].clip(lower_bound, upper_bound)\n",
    "    return df"
   ]
  },
  {
   "cell_type": "code",
   "execution_count": 52,
   "id": "3627c462-1104-49ac-b538-0e348ce1b25b",
   "metadata": {},
   "outputs": [],
   "source": [
    "numeric_cols = df.select_dtypes(include=['int64', 'float64']).columns.drop('isFraud')\n",
    "for col in ['amount', 'oldbalanceDest', 'newbalanceDest']:\n",
    "    df = cap_outliers(df, col)"
   ]
  },
  {
   "cell_type": "code",
   "execution_count": 53,
   "id": "c7c51cff-6ded-4168-b76b-f5689e361520",
   "metadata": {},
   "outputs": [],
   "source": [
    "df['nameDest_freq'] = df['nameDest'].map(df['nameDest'].value_counts())"
   ]
  },
  {
   "cell_type": "code",
   "execution_count": 54,
   "id": "f2bbc4ac-57b0-4ec5-9fd9-14b7651188a2",
   "metadata": {},
   "outputs": [
    {
     "name": "stdout",
     "output_type": "stream",
     "text": [
      "   step      type        amount     nameOrig  oldbalanceOrg  newbalanceOrig  \\\n",
      "0     1  TRANSFER     181.00000  C1305486145         181.00             0.0   \n",
      "1     1  CASH_OUT     181.00000   C840083671         181.00             0.0   \n",
      "2     1  TRANSFER    2806.00000  C1420196421        2806.00             0.0   \n",
      "3     1  CASH_OUT    2806.00000  C2101527076        2806.00             0.0   \n",
      "4     1  TRANSFER   20128.00000   C137533655       20128.00             0.0   \n",
      "5     1  CASH_OUT   20128.00000  C1118430673       20128.00             0.0   \n",
      "6     1  CASH_OUT  378421.51125   C749981943           0.00             0.0   \n",
      "7     1  TRANSFER  378421.51125  C1334405552     1277212.77             0.0   \n",
      "8     1  CASH_OUT  378421.51125   C467632528     1277212.77             0.0   \n",
      "9     1  TRANSFER   35063.63000  C1364127192       35063.63             0.0   \n",
      "\n",
      "      nameDest  oldbalanceDest  newbalanceDest  isFraud  nameDest_freq  \n",
      "0   C553264065             0.0            0.00        1              3  \n",
      "1    C38997010         21182.0            0.00        1              1  \n",
      "2   C972765878             0.0            0.00        1              1  \n",
      "3  C1007251739         26202.0            0.00        1              1  \n",
      "4  C1848415041             0.0            0.00        1              1  \n",
      "5   C339924917          6268.0        12145.85        1              4  \n",
      "6   C667346055           102.0       796593.40        1             28  \n",
      "7   C431687661             0.0            0.00        1              1  \n",
      "8   C716083600             0.0       796593.40        1             31  \n",
      "9  C1136419747             0.0            0.00        1              1  \n"
     ]
    }
   ],
   "source": [
    "print(df.head(10))"
   ]
  },
  {
   "cell_type": "code",
   "execution_count": 55,
   "id": "6d00e36f-219f-4ea2-bc05-230a4ae020d5",
   "metadata": {},
   "outputs": [],
   "source": [
    "from sklearn.preprocessing import StandardScaler, OneHotEncoder\n",
    "from sklearn.model_selection import train_test_split"
   ]
  },
  {
   "cell_type": "code",
   "execution_count": 56,
   "id": "eab75627-ec76-4bab-9b28-229bfd25359f",
   "metadata": {},
   "outputs": [],
   "source": [
    "#Selecting features and target"
   ]
  },
  {
   "cell_type": "code",
   "execution_count": 57,
   "id": "f9c8a79b-1879-4e50-955e-ca7b45d84395",
   "metadata": {},
   "outputs": [],
   "source": [
    "X = df.drop(columns=['isFraud'])\n",
    "y = df['isFraud']"
   ]
  },
  {
   "cell_type": "code",
   "execution_count": 58,
   "id": "8be2c646-5a7d-4220-bb51-95e186c53d74",
   "metadata": {},
   "outputs": [],
   "source": [
    "categorical_cols = ['type']  # nameOrig_first can be dropped if not useful\n",
    "encoder = OneHotEncoder(drop='first', sparse_output=False)\n",
    "X_encoded = pd.DataFrame(encoder.fit_transform(X[categorical_cols]))\n",
    "X_encoded.columns = encoder.get_feature_names_out(categorical_cols)"
   ]
  },
  {
   "cell_type": "code",
   "execution_count": 59,
   "id": "b089ce28-9df6-4784-bd49-644ef290d089",
   "metadata": {},
   "outputs": [
    {
     "name": "stdout",
     "output_type": "stream",
     "text": [
      "Index(['type_CASH_OUT', 'type_DEBIT', 'type_PAYMENT', 'type_TRANSFER'], dtype='object')\n"
     ]
    }
   ],
   "source": [
    "print(X_encoded.columns)"
   ]
  },
  {
   "cell_type": "code",
   "execution_count": 60,
   "id": "baea31f3-68d8-4fe4-a751-bd2581750798",
   "metadata": {},
   "outputs": [],
   "source": [
    "numeric_cols = X.select_dtypes(include=['int64', 'float64']).columns\n",
    "scaler = StandardScaler()\n",
    "X[numeric_cols] = scaler.fit_transform(X[numeric_cols])"
   ]
  },
  {
   "cell_type": "markdown",
   "id": "5f04dfe2-7fda-4bbb-a854-ace4fc1f791f",
   "metadata": {},
   "source": [
    "**Splitting the Test and Train Data**"
   ]
  },
  {
   "cell_type": "code",
   "execution_count": 62,
   "id": "1ac28cff-835e-49c8-9846-dc6bd3afdf8a",
   "metadata": {},
   "outputs": [],
   "source": [
    "# Split the data\n",
    "X_train, X_test, y_train, y_test = train_test_split(X, y, test_size=0.2, random_state=42, stratify=y)"
   ]
  },
  {
   "cell_type": "code",
   "execution_count": 63,
   "id": "b090f63d-f60a-4b15-ac09-2a74a7c36cb8",
   "metadata": {},
   "outputs": [
    {
     "name": "stdout",
     "output_type": "stream",
     "text": [
      "X_train shape: (8913, 10)\n",
      "X_test shape: (2229, 10)\n",
      "\n",
      "Sample of X_train:\n",
      "           step      type    amount     nameOrig  oldbalanceOrg  \\\n",
      "10340 -0.106907   PAYMENT -0.628548  C1877303247      -0.411801   \n",
      "9605  -0.106907  CASH_OUT  1.630746  C2056319805      -0.431244   \n",
      "6697  -0.169147   PAYMENT -0.689559  C1754096028      -0.431244   \n",
      "3437  -0.480349   PAYMENT -0.729931  C1559788797      -0.373004   \n",
      "5526  -0.293628   PAYMENT -0.699794  C1163216403      -0.428508   \n",
      "\n",
      "       newbalanceOrig     nameDest  oldbalanceDest  newbalanceDest  \\\n",
      "10340       -0.381213  M1293905436       -0.638844       -0.629582   \n",
      "9605        -0.394754   C766681183        1.936335        1.855818   \n",
      "6697        -0.394754  M1686106686       -0.638844       -0.629582   \n",
      "3437        -0.335123  M1980194149       -0.638844       -0.629582   \n",
      "5526        -0.393912  M1675999402       -0.638844       -0.629582   \n",
      "\n",
      "       nameDest_freq  \n",
      "10340      -0.512767  \n",
      "9605        1.121084  \n",
      "6697       -0.512767  \n",
      "3437       -0.512767  \n",
      "5526       -0.512767  \n"
     ]
    }
   ],
   "source": [
    "print(\"X_train shape:\", X_train.shape)\n",
    "print(\"X_test shape:\", X_test.shape)\n",
    "print(\"\\nSample of X_train:\")\n",
    "print(X_train.head())"
   ]
  },
  {
   "cell_type": "code",
   "execution_count": 64,
   "id": "929b2878-33a6-4fb3-9eeb-d8baeb01e98e",
   "metadata": {},
   "outputs": [],
   "source": [
    "categorical_cols = X.select_dtypes(include=['object']).columns"
   ]
  },
  {
   "cell_type": "code",
   "execution_count": 65,
   "id": "0e3aef73-849c-43ac-95b6-fd163e006b78",
   "metadata": {},
   "outputs": [
    {
     "name": "stdout",
     "output_type": "stream",
     "text": [
      "Index(['type', 'nameOrig', 'nameDest'], dtype='object')\n"
     ]
    }
   ],
   "source": [
    "print(categorical_cols)"
   ]
  },
  {
   "cell_type": "code",
   "execution_count": 66,
   "id": "70fd1a9a-f57f-4723-a4f8-f7f7b55f04df",
   "metadata": {},
   "outputs": [],
   "source": [
    "X = pd.get_dummies(X, columns=categorical_cols)"
   ]
  },
  {
   "cell_type": "markdown",
   "id": "b18c7577-5242-4b6b-92b6-a85ab1ab25eb",
   "metadata": {},
   "source": [
    "**MODELING**\n",
    "\n",
    " \n",
    " Here we will train the model with more than two model\n",
    "\n",
    "**LOGISTIC REGRESSION**"
   ]
  },
  {
   "cell_type": "code",
   "execution_count": 68,
   "id": "5ee264f2-fdc2-4aed-b0cb-e0d30199ab4e",
   "metadata": {},
   "outputs": [],
   "source": [
    "from sklearn.linear_model import LogisticRegression\n",
    "from sklearn.metrics import accuracy_score, precision_score, recall_score, f1_score, classification_report\n",
    "import numpy as np"
   ]
  },
  {
   "cell_type": "code",
   "execution_count": 69,
   "id": "10222b6a-ff59-415b-a0d0-df3a15d84cf9",
   "metadata": {},
   "outputs": [],
   "source": [
    "X_train, X_test, y_train, y_test = train_test_split(X, y, test_size=0.2, random_state=42)\n"
   ]
  },
  {
   "cell_type": "code",
   "execution_count": 70,
   "id": "4b524954-c00e-4338-a9a6-d85a54a86a2d",
   "metadata": {},
   "outputs": [
    {
     "data": {
      "text/html": [
       "<style>#sk-container-id-1 {\n",
       "  /* Definition of color scheme common for light and dark mode */\n",
       "  --sklearn-color-text: #000;\n",
       "  --sklearn-color-text-muted: #666;\n",
       "  --sklearn-color-line: gray;\n",
       "  /* Definition of color scheme for unfitted estimators */\n",
       "  --sklearn-color-unfitted-level-0: #fff5e6;\n",
       "  --sklearn-color-unfitted-level-1: #f6e4d2;\n",
       "  --sklearn-color-unfitted-level-2: #ffe0b3;\n",
       "  --sklearn-color-unfitted-level-3: chocolate;\n",
       "  /* Definition of color scheme for fitted estimators */\n",
       "  --sklearn-color-fitted-level-0: #f0f8ff;\n",
       "  --sklearn-color-fitted-level-1: #d4ebff;\n",
       "  --sklearn-color-fitted-level-2: #b3dbfd;\n",
       "  --sklearn-color-fitted-level-3: cornflowerblue;\n",
       "\n",
       "  /* Specific color for light theme */\n",
       "  --sklearn-color-text-on-default-background: var(--sg-text-color, var(--theme-code-foreground, var(--jp-content-font-color1, black)));\n",
       "  --sklearn-color-background: var(--sg-background-color, var(--theme-background, var(--jp-layout-color0, white)));\n",
       "  --sklearn-color-border-box: var(--sg-text-color, var(--theme-code-foreground, var(--jp-content-font-color1, black)));\n",
       "  --sklearn-color-icon: #696969;\n",
       "\n",
       "  @media (prefers-color-scheme: dark) {\n",
       "    /* Redefinition of color scheme for dark theme */\n",
       "    --sklearn-color-text-on-default-background: var(--sg-text-color, var(--theme-code-foreground, var(--jp-content-font-color1, white)));\n",
       "    --sklearn-color-background: var(--sg-background-color, var(--theme-background, var(--jp-layout-color0, #111)));\n",
       "    --sklearn-color-border-box: var(--sg-text-color, var(--theme-code-foreground, var(--jp-content-font-color1, white)));\n",
       "    --sklearn-color-icon: #878787;\n",
       "  }\n",
       "}\n",
       "\n",
       "#sk-container-id-1 {\n",
       "  color: var(--sklearn-color-text);\n",
       "}\n",
       "\n",
       "#sk-container-id-1 pre {\n",
       "  padding: 0;\n",
       "}\n",
       "\n",
       "#sk-container-id-1 input.sk-hidden--visually {\n",
       "  border: 0;\n",
       "  clip: rect(1px 1px 1px 1px);\n",
       "  clip: rect(1px, 1px, 1px, 1px);\n",
       "  height: 1px;\n",
       "  margin: -1px;\n",
       "  overflow: hidden;\n",
       "  padding: 0;\n",
       "  position: absolute;\n",
       "  width: 1px;\n",
       "}\n",
       "\n",
       "#sk-container-id-1 div.sk-dashed-wrapped {\n",
       "  border: 1px dashed var(--sklearn-color-line);\n",
       "  margin: 0 0.4em 0.5em 0.4em;\n",
       "  box-sizing: border-box;\n",
       "  padding-bottom: 0.4em;\n",
       "  background-color: var(--sklearn-color-background);\n",
       "}\n",
       "\n",
       "#sk-container-id-1 div.sk-container {\n",
       "  /* jupyter's `normalize.less` sets `[hidden] { display: none; }`\n",
       "     but bootstrap.min.css set `[hidden] { display: none !important; }`\n",
       "     so we also need the `!important` here to be able to override the\n",
       "     default hidden behavior on the sphinx rendered scikit-learn.org.\n",
       "     See: https://github.com/scikit-learn/scikit-learn/issues/21755 */\n",
       "  display: inline-block !important;\n",
       "  position: relative;\n",
       "}\n",
       "\n",
       "#sk-container-id-1 div.sk-text-repr-fallback {\n",
       "  display: none;\n",
       "}\n",
       "\n",
       "div.sk-parallel-item,\n",
       "div.sk-serial,\n",
       "div.sk-item {\n",
       "  /* draw centered vertical line to link estimators */\n",
       "  background-image: linear-gradient(var(--sklearn-color-text-on-default-background), var(--sklearn-color-text-on-default-background));\n",
       "  background-size: 2px 100%;\n",
       "  background-repeat: no-repeat;\n",
       "  background-position: center center;\n",
       "}\n",
       "\n",
       "/* Parallel-specific style estimator block */\n",
       "\n",
       "#sk-container-id-1 div.sk-parallel-item::after {\n",
       "  content: \"\";\n",
       "  width: 100%;\n",
       "  border-bottom: 2px solid var(--sklearn-color-text-on-default-background);\n",
       "  flex-grow: 1;\n",
       "}\n",
       "\n",
       "#sk-container-id-1 div.sk-parallel {\n",
       "  display: flex;\n",
       "  align-items: stretch;\n",
       "  justify-content: center;\n",
       "  background-color: var(--sklearn-color-background);\n",
       "  position: relative;\n",
       "}\n",
       "\n",
       "#sk-container-id-1 div.sk-parallel-item {\n",
       "  display: flex;\n",
       "  flex-direction: column;\n",
       "}\n",
       "\n",
       "#sk-container-id-1 div.sk-parallel-item:first-child::after {\n",
       "  align-self: flex-end;\n",
       "  width: 50%;\n",
       "}\n",
       "\n",
       "#sk-container-id-1 div.sk-parallel-item:last-child::after {\n",
       "  align-self: flex-start;\n",
       "  width: 50%;\n",
       "}\n",
       "\n",
       "#sk-container-id-1 div.sk-parallel-item:only-child::after {\n",
       "  width: 0;\n",
       "}\n",
       "\n",
       "/* Serial-specific style estimator block */\n",
       "\n",
       "#sk-container-id-1 div.sk-serial {\n",
       "  display: flex;\n",
       "  flex-direction: column;\n",
       "  align-items: center;\n",
       "  background-color: var(--sklearn-color-background);\n",
       "  padding-right: 1em;\n",
       "  padding-left: 1em;\n",
       "}\n",
       "\n",
       "\n",
       "/* Toggleable style: style used for estimator/Pipeline/ColumnTransformer box that is\n",
       "clickable and can be expanded/collapsed.\n",
       "- Pipeline and ColumnTransformer use this feature and define the default style\n",
       "- Estimators will overwrite some part of the style using the `sk-estimator` class\n",
       "*/\n",
       "\n",
       "/* Pipeline and ColumnTransformer style (default) */\n",
       "\n",
       "#sk-container-id-1 div.sk-toggleable {\n",
       "  /* Default theme specific background. It is overwritten whether we have a\n",
       "  specific estimator or a Pipeline/ColumnTransformer */\n",
       "  background-color: var(--sklearn-color-background);\n",
       "}\n",
       "\n",
       "/* Toggleable label */\n",
       "#sk-container-id-1 label.sk-toggleable__label {\n",
       "  cursor: pointer;\n",
       "  display: flex;\n",
       "  width: 100%;\n",
       "  margin-bottom: 0;\n",
       "  padding: 0.5em;\n",
       "  box-sizing: border-box;\n",
       "  text-align: center;\n",
       "  align-items: start;\n",
       "  justify-content: space-between;\n",
       "  gap: 0.5em;\n",
       "}\n",
       "\n",
       "#sk-container-id-1 label.sk-toggleable__label .caption {\n",
       "  font-size: 0.6rem;\n",
       "  font-weight: lighter;\n",
       "  color: var(--sklearn-color-text-muted);\n",
       "}\n",
       "\n",
       "#sk-container-id-1 label.sk-toggleable__label-arrow:before {\n",
       "  /* Arrow on the left of the label */\n",
       "  content: \"▸\";\n",
       "  float: left;\n",
       "  margin-right: 0.25em;\n",
       "  color: var(--sklearn-color-icon);\n",
       "}\n",
       "\n",
       "#sk-container-id-1 label.sk-toggleable__label-arrow:hover:before {\n",
       "  color: var(--sklearn-color-text);\n",
       "}\n",
       "\n",
       "/* Toggleable content - dropdown */\n",
       "\n",
       "#sk-container-id-1 div.sk-toggleable__content {\n",
       "  max-height: 0;\n",
       "  max-width: 0;\n",
       "  overflow: hidden;\n",
       "  text-align: left;\n",
       "  /* unfitted */\n",
       "  background-color: var(--sklearn-color-unfitted-level-0);\n",
       "}\n",
       "\n",
       "#sk-container-id-1 div.sk-toggleable__content.fitted {\n",
       "  /* fitted */\n",
       "  background-color: var(--sklearn-color-fitted-level-0);\n",
       "}\n",
       "\n",
       "#sk-container-id-1 div.sk-toggleable__content pre {\n",
       "  margin: 0.2em;\n",
       "  border-radius: 0.25em;\n",
       "  color: var(--sklearn-color-text);\n",
       "  /* unfitted */\n",
       "  background-color: var(--sklearn-color-unfitted-level-0);\n",
       "}\n",
       "\n",
       "#sk-container-id-1 div.sk-toggleable__content.fitted pre {\n",
       "  /* unfitted */\n",
       "  background-color: var(--sklearn-color-fitted-level-0);\n",
       "}\n",
       "\n",
       "#sk-container-id-1 input.sk-toggleable__control:checked~div.sk-toggleable__content {\n",
       "  /* Expand drop-down */\n",
       "  max-height: 200px;\n",
       "  max-width: 100%;\n",
       "  overflow: auto;\n",
       "}\n",
       "\n",
       "#sk-container-id-1 input.sk-toggleable__control:checked~label.sk-toggleable__label-arrow:before {\n",
       "  content: \"▾\";\n",
       "}\n",
       "\n",
       "/* Pipeline/ColumnTransformer-specific style */\n",
       "\n",
       "#sk-container-id-1 div.sk-label input.sk-toggleable__control:checked~label.sk-toggleable__label {\n",
       "  color: var(--sklearn-color-text);\n",
       "  background-color: var(--sklearn-color-unfitted-level-2);\n",
       "}\n",
       "\n",
       "#sk-container-id-1 div.sk-label.fitted input.sk-toggleable__control:checked~label.sk-toggleable__label {\n",
       "  background-color: var(--sklearn-color-fitted-level-2);\n",
       "}\n",
       "\n",
       "/* Estimator-specific style */\n",
       "\n",
       "/* Colorize estimator box */\n",
       "#sk-container-id-1 div.sk-estimator input.sk-toggleable__control:checked~label.sk-toggleable__label {\n",
       "  /* unfitted */\n",
       "  background-color: var(--sklearn-color-unfitted-level-2);\n",
       "}\n",
       "\n",
       "#sk-container-id-1 div.sk-estimator.fitted input.sk-toggleable__control:checked~label.sk-toggleable__label {\n",
       "  /* fitted */\n",
       "  background-color: var(--sklearn-color-fitted-level-2);\n",
       "}\n",
       "\n",
       "#sk-container-id-1 div.sk-label label.sk-toggleable__label,\n",
       "#sk-container-id-1 div.sk-label label {\n",
       "  /* The background is the default theme color */\n",
       "  color: var(--sklearn-color-text-on-default-background);\n",
       "}\n",
       "\n",
       "/* On hover, darken the color of the background */\n",
       "#sk-container-id-1 div.sk-label:hover label.sk-toggleable__label {\n",
       "  color: var(--sklearn-color-text);\n",
       "  background-color: var(--sklearn-color-unfitted-level-2);\n",
       "}\n",
       "\n",
       "/* Label box, darken color on hover, fitted */\n",
       "#sk-container-id-1 div.sk-label.fitted:hover label.sk-toggleable__label.fitted {\n",
       "  color: var(--sklearn-color-text);\n",
       "  background-color: var(--sklearn-color-fitted-level-2);\n",
       "}\n",
       "\n",
       "/* Estimator label */\n",
       "\n",
       "#sk-container-id-1 div.sk-label label {\n",
       "  font-family: monospace;\n",
       "  font-weight: bold;\n",
       "  display: inline-block;\n",
       "  line-height: 1.2em;\n",
       "}\n",
       "\n",
       "#sk-container-id-1 div.sk-label-container {\n",
       "  text-align: center;\n",
       "}\n",
       "\n",
       "/* Estimator-specific */\n",
       "#sk-container-id-1 div.sk-estimator {\n",
       "  font-family: monospace;\n",
       "  border: 1px dotted var(--sklearn-color-border-box);\n",
       "  border-radius: 0.25em;\n",
       "  box-sizing: border-box;\n",
       "  margin-bottom: 0.5em;\n",
       "  /* unfitted */\n",
       "  background-color: var(--sklearn-color-unfitted-level-0);\n",
       "}\n",
       "\n",
       "#sk-container-id-1 div.sk-estimator.fitted {\n",
       "  /* fitted */\n",
       "  background-color: var(--sklearn-color-fitted-level-0);\n",
       "}\n",
       "\n",
       "/* on hover */\n",
       "#sk-container-id-1 div.sk-estimator:hover {\n",
       "  /* unfitted */\n",
       "  background-color: var(--sklearn-color-unfitted-level-2);\n",
       "}\n",
       "\n",
       "#sk-container-id-1 div.sk-estimator.fitted:hover {\n",
       "  /* fitted */\n",
       "  background-color: var(--sklearn-color-fitted-level-2);\n",
       "}\n",
       "\n",
       "/* Specification for estimator info (e.g. \"i\" and \"?\") */\n",
       "\n",
       "/* Common style for \"i\" and \"?\" */\n",
       "\n",
       ".sk-estimator-doc-link,\n",
       "a:link.sk-estimator-doc-link,\n",
       "a:visited.sk-estimator-doc-link {\n",
       "  float: right;\n",
       "  font-size: smaller;\n",
       "  line-height: 1em;\n",
       "  font-family: monospace;\n",
       "  background-color: var(--sklearn-color-background);\n",
       "  border-radius: 1em;\n",
       "  height: 1em;\n",
       "  width: 1em;\n",
       "  text-decoration: none !important;\n",
       "  margin-left: 0.5em;\n",
       "  text-align: center;\n",
       "  /* unfitted */\n",
       "  border: var(--sklearn-color-unfitted-level-1) 1pt solid;\n",
       "  color: var(--sklearn-color-unfitted-level-1);\n",
       "}\n",
       "\n",
       ".sk-estimator-doc-link.fitted,\n",
       "a:link.sk-estimator-doc-link.fitted,\n",
       "a:visited.sk-estimator-doc-link.fitted {\n",
       "  /* fitted */\n",
       "  border: var(--sklearn-color-fitted-level-1) 1pt solid;\n",
       "  color: var(--sklearn-color-fitted-level-1);\n",
       "}\n",
       "\n",
       "/* On hover */\n",
       "div.sk-estimator:hover .sk-estimator-doc-link:hover,\n",
       ".sk-estimator-doc-link:hover,\n",
       "div.sk-label-container:hover .sk-estimator-doc-link:hover,\n",
       ".sk-estimator-doc-link:hover {\n",
       "  /* unfitted */\n",
       "  background-color: var(--sklearn-color-unfitted-level-3);\n",
       "  color: var(--sklearn-color-background);\n",
       "  text-decoration: none;\n",
       "}\n",
       "\n",
       "div.sk-estimator.fitted:hover .sk-estimator-doc-link.fitted:hover,\n",
       ".sk-estimator-doc-link.fitted:hover,\n",
       "div.sk-label-container:hover .sk-estimator-doc-link.fitted:hover,\n",
       ".sk-estimator-doc-link.fitted:hover {\n",
       "  /* fitted */\n",
       "  background-color: var(--sklearn-color-fitted-level-3);\n",
       "  color: var(--sklearn-color-background);\n",
       "  text-decoration: none;\n",
       "}\n",
       "\n",
       "/* Span, style for the box shown on hovering the info icon */\n",
       ".sk-estimator-doc-link span {\n",
       "  display: none;\n",
       "  z-index: 9999;\n",
       "  position: relative;\n",
       "  font-weight: normal;\n",
       "  right: .2ex;\n",
       "  padding: .5ex;\n",
       "  margin: .5ex;\n",
       "  width: min-content;\n",
       "  min-width: 20ex;\n",
       "  max-width: 50ex;\n",
       "  color: var(--sklearn-color-text);\n",
       "  box-shadow: 2pt 2pt 4pt #999;\n",
       "  /* unfitted */\n",
       "  background: var(--sklearn-color-unfitted-level-0);\n",
       "  border: .5pt solid var(--sklearn-color-unfitted-level-3);\n",
       "}\n",
       "\n",
       ".sk-estimator-doc-link.fitted span {\n",
       "  /* fitted */\n",
       "  background: var(--sklearn-color-fitted-level-0);\n",
       "  border: var(--sklearn-color-fitted-level-3);\n",
       "}\n",
       "\n",
       ".sk-estimator-doc-link:hover span {\n",
       "  display: block;\n",
       "}\n",
       "\n",
       "/* \"?\"-specific style due to the `<a>` HTML tag */\n",
       "\n",
       "#sk-container-id-1 a.estimator_doc_link {\n",
       "  float: right;\n",
       "  font-size: 1rem;\n",
       "  line-height: 1em;\n",
       "  font-family: monospace;\n",
       "  background-color: var(--sklearn-color-background);\n",
       "  border-radius: 1rem;\n",
       "  height: 1rem;\n",
       "  width: 1rem;\n",
       "  text-decoration: none;\n",
       "  /* unfitted */\n",
       "  color: var(--sklearn-color-unfitted-level-1);\n",
       "  border: var(--sklearn-color-unfitted-level-1) 1pt solid;\n",
       "}\n",
       "\n",
       "#sk-container-id-1 a.estimator_doc_link.fitted {\n",
       "  /* fitted */\n",
       "  border: var(--sklearn-color-fitted-level-1) 1pt solid;\n",
       "  color: var(--sklearn-color-fitted-level-1);\n",
       "}\n",
       "\n",
       "/* On hover */\n",
       "#sk-container-id-1 a.estimator_doc_link:hover {\n",
       "  /* unfitted */\n",
       "  background-color: var(--sklearn-color-unfitted-level-3);\n",
       "  color: var(--sklearn-color-background);\n",
       "  text-decoration: none;\n",
       "}\n",
       "\n",
       "#sk-container-id-1 a.estimator_doc_link.fitted:hover {\n",
       "  /* fitted */\n",
       "  background-color: var(--sklearn-color-fitted-level-3);\n",
       "}\n",
       "</style><div id=\"sk-container-id-1\" class=\"sk-top-container\"><div class=\"sk-text-repr-fallback\"><pre>LogisticRegression(max_iter=1000, random_state=42)</pre><b>In a Jupyter environment, please rerun this cell to show the HTML representation or trust the notebook. <br />On GitHub, the HTML representation is unable to render, please try loading this page with nbviewer.org.</b></div><div class=\"sk-container\" hidden><div class=\"sk-item\"><div class=\"sk-estimator fitted sk-toggleable\"><input class=\"sk-toggleable__control sk-hidden--visually\" id=\"sk-estimator-id-1\" type=\"checkbox\" checked><label for=\"sk-estimator-id-1\" class=\"sk-toggleable__label fitted sk-toggleable__label-arrow\"><div><div>LogisticRegression</div></div><div><a class=\"sk-estimator-doc-link fitted\" rel=\"noreferrer\" target=\"_blank\" href=\"https://scikit-learn.org/1.6/modules/generated/sklearn.linear_model.LogisticRegression.html\">?<span>Documentation for LogisticRegression</span></a><span class=\"sk-estimator-doc-link fitted\">i<span>Fitted</span></span></div></label><div class=\"sk-toggleable__content fitted\"><pre>LogisticRegression(max_iter=1000, random_state=42)</pre></div> </div></div></div></div>"
      ],
      "text/plain": [
       "LogisticRegression(max_iter=1000, random_state=42)"
      ]
     },
     "execution_count": 70,
     "metadata": {},
     "output_type": "execute_result"
    }
   ],
   "source": [
    "model = LogisticRegression(random_state=42, max_iter=1000)\n",
    "model.fit(X_train, y_train)"
   ]
  },
  {
   "cell_type": "code",
   "execution_count": 71,
   "id": "96bddee4-7487-4bdd-9b61-e96c301b93a0",
   "metadata": {},
   "outputs": [
    {
     "name": "stdout",
     "output_type": "stream",
     "text": [
      "step                   float64\n",
      "amount                 float64\n",
      "oldbalanceOrg          float64\n",
      "newbalanceOrig         float64\n",
      "oldbalanceDest         float64\n",
      "                        ...   \n",
      "nameDest_M998458782       bool\n",
      "nameDest_M998935228       bool\n",
      "nameDest_M998983750       bool\n",
      "nameDest_M999036382       bool\n",
      "nameDest_M999221400       bool\n",
      "Length: 18662, dtype: object\n",
      "int64\n"
     ]
    }
   ],
   "source": [
    "   print(X_train.dtypes)\n",
    "   print(y_train.dtypes)"
   ]
  },
  {
   "cell_type": "code",
   "execution_count": 72,
   "id": "dd8f2b2b-19e8-4987-a74e-b04679c9e180",
   "metadata": {},
   "outputs": [
    {
     "name": "stdout",
     "output_type": "stream",
     "text": [
      "step                   0\n",
      "amount                 0\n",
      "oldbalanceOrg          0\n",
      "newbalanceOrig         0\n",
      "oldbalanceDest         0\n",
      "                      ..\n",
      "nameDest_M998458782    0\n",
      "nameDest_M998935228    0\n",
      "nameDest_M998983750    0\n",
      "nameDest_M999036382    0\n",
      "nameDest_M999221400    0\n",
      "Length: 18662, dtype: int64\n",
      "0\n"
     ]
    }
   ],
   "source": [
    "   print(X_train.isnull().sum())\n",
    "   print(y_train.isnull().sum())"
   ]
  },
  {
   "cell_type": "code",
   "execution_count": 73,
   "id": "6772acfc-faf0-43fe-8ab9-1a9799305480",
   "metadata": {},
   "outputs": [],
   "source": [
    "y_pred = model.predict(X_test)"
   ]
  },
  {
   "cell_type": "code",
   "execution_count": 74,
   "id": "3a840ad3-8b70-44e2-8954-074a4b322875",
   "metadata": {},
   "outputs": [],
   "source": [
    "accuracy = accuracy_score(y_test, y_pred)\n",
    "precision = precision_score(y_test, y_pred)\n",
    "recall = recall_score(y_test, y_pred)\n",
    "f1 = f1_score(y_test, y_pred)"
   ]
  },
  {
   "cell_type": "code",
   "execution_count": 75,
   "id": "2bc79a20-92d7-48cb-91af-fc0c4f0ffcf2",
   "metadata": {},
   "outputs": [
    {
     "name": "stdout",
     "output_type": "stream",
     "text": [
      "Model Evaluation:\n",
      "Accuracy: 0.99\n",
      "Precision: 1.00\n",
      "Recall: 0.87\n",
      "F1-Score: 0.93\n",
      "\n",
      "Detailed Classification Report:\n",
      "              precision    recall  f1-score   support\n",
      "\n",
      "           0       0.99      1.00      0.99      1999\n",
      "           1       1.00      0.87      0.93       230\n",
      "\n",
      "    accuracy                           0.99      2229\n",
      "   macro avg       0.99      0.93      0.96      2229\n",
      "weighted avg       0.99      0.99      0.99      2229\n",
      "\n"
     ]
    }
   ],
   "source": [
    "print(\"Model Evaluation:\")\n",
    "print(f\"Accuracy: {accuracy:.2f}\")\n",
    "print(f\"Precision: {precision:.2f}\")\n",
    "print(f\"Recall: {recall:.2f}\")\n",
    "print(f\"F1-Score: {f1:.2f}\")\n",
    "print(\"\\nDetailed Classification Report:\")\n",
    "print(classification_report(y_test, y_pred))"
   ]
  },
  {
   "cell_type": "code",
   "execution_count": 76,
   "id": "caf30047-e665-42f8-a75d-be288c0016f6",
   "metadata": {},
   "outputs": [],
   "source": [
    "y_pred_prob = model.predict_proba(X_test)[:, 1]"
   ]
  },
  {
   "cell_type": "code",
   "execution_count": 77,
   "id": "2bbd254b-f815-4f9a-9ae8-901e6c1666eb",
   "metadata": {},
   "outputs": [
    {
     "name": "stdout",
     "output_type": "stream",
     "text": [
      "[7.24584076e-04 9.99996596e-01 2.73553826e-03 ... 6.27199299e-04\n",
      " 7.23852541e-04 7.03348982e-04]\n"
     ]
    }
   ],
   "source": [
    "print(y_pred_prob)"
   ]
  },
  {
   "cell_type": "code",
   "execution_count": 78,
   "id": "fd3bc448-23cf-4670-b023-04a5132fb9be",
   "metadata": {},
   "outputs": [
    {
     "name": "stdout",
     "output_type": "stream",
     "text": [
      "Classification Report:\n",
      "               precision    recall  f1-score   support\n",
      "\n",
      "           0       0.99      1.00      0.99      1999\n",
      "           1       1.00      0.87      0.93       230\n",
      "\n",
      "    accuracy                           0.99      2229\n",
      "   macro avg       0.99      0.93      0.96      2229\n",
      "weighted avg       0.99      0.99      0.99      2229\n",
      "\n",
      "ROC-AUC Score: 0.9347826086956521\n"
     ]
    }
   ],
   "source": [
    "from sklearn.metrics import accuracy_score, precision_score, recall_score, f1_score, classification_report, roc_curve, roc_auc_score,confusion_matrix, ConfusionMatrixDisplay\n",
    "print(\"Classification Report:\\n\", classification_report(y_test, y_pred))\n",
    "print(\"ROC-AUC Score:\", roc_auc_score(y_test, y_pred))"
   ]
  },
  {
   "cell_type": "code",
   "execution_count": 79,
   "id": "b2749acf-1c53-43a5-979f-3c8a5c8b4c8e",
   "metadata": {},
   "outputs": [],
   "source": [
    "y_pred = model.predict(X_test)\n",
    "y_pred_proba = model.predict_proba(X_test)[:, 1]"
   ]
  },
  {
   "cell_type": "code",
   "execution_count": 80,
   "id": "e2ada4da-f032-49e1-9fbe-f5b04075a104",
   "metadata": {},
   "outputs": [],
   "source": [
    "# Calculate and plot ROC curve\n",
    "fpr, tpr, _ = roc_curve(y_test, y_pred_proba)\n",
    "roc_auc = roc_auc_score(y_test, y_pred_proba)"
   ]
  },
  {
   "cell_type": "code",
   "execution_count": 81,
   "id": "feef8207-8a70-4bb5-b90c-f884144cc3e0",
   "metadata": {},
   "outputs": [
    {
     "data": {
      "text/plain": [
       "<matplotlib.legend.Legend at 0x30b19a270>"
      ]
     },
     "execution_count": 81,
     "metadata": {},
     "output_type": "execute_result"
    },
    {
     "data": {
      "image/png": "[encoded data removed]",
      "text/plain": [
       "<Figure size 1200x500 with 1 Axes>"
      ]
     },
     "metadata": {},
     "output_type": "display_data"
    }
   ],
   "source": [
    "# ROC Curve\n",
    "plt.figure(figsize=(12, 5))\n",
    "plt.subplot(1, 2, 1)\n",
    "plt.plot(fpr, tpr, color='darkorange', lw=2, label=f'ROC curve (area = {roc_auc:.2f})')\n",
    "plt.plot([0, 1], [0, 1], color='navy', lw=2, linestyle='--')\n",
    "plt.xlim([0.0, 1.0])\n",
    "plt.ylim([0.0, 1.05])\n",
    "plt.xlabel('False Positive Rate')\n",
    "plt.ylabel('True Positive Rate')\n",
    "plt.title('Receiver Operating Characteristic (ROC) Curve')\n",
    "plt.legend(loc=\"lower right\")"
   ]
  },
  {
   "cell_type": "code",
   "execution_count": 82,
   "id": "2171f1a8-aa7b-44ce-8605-0a896490fe28",
   "metadata": {},
   "outputs": [
    {
     "data": {
      "image/png": "[encoded data removed]",
      "text/plain": [
       "<Figure size 640x480 with 2 Axes>"
      ]
     },
     "metadata": {},
     "output_type": "display_data"
    }
   ],
   "source": [
    "cm = confusion_matrix(y_test, y_pred)\n",
    "disp = ConfusionMatrixDisplay(confusion_matrix=cm)\n",
    "disp.plot()\n",
    "plt.title('Confusion Matrix')\n",
    "plt.show()"
   ]
  },
  {
   "cell_type": "code",
   "execution_count": 83,
   "id": "6dca3476-63bd-463b-9948-d08ed0f34042",
   "metadata": {},
   "outputs": [],
   "source": [
    "from sklearn.ensemble import RandomForestClassifier\n",
    "from sklearn.metrics import accuracy_score, precision_score, recall_score, f1_score, classification_report\n",
    "import numpy as np"
   ]
  },
  {
   "cell_type": "code",
   "execution_count": 84,
   "id": "3693a601-c57c-4301-85cb-3072c4d36ec2",
   "metadata": {},
   "outputs": [
    {
     "data": {
      "text/html": [
       "<style>#sk-container-id-2 {\n",
       "  /* Definition of color scheme common for light and dark mode */\n",
       "  --sklearn-color-text: #000;\n",
       "  --sklearn-color-text-muted: #666;\n",
       "  --sklearn-color-line: gray;\n",
       "  /* Definition of color scheme for unfitted estimators */\n",
       "  --sklearn-color-unfitted-level-0: #fff5e6;\n",
       "  --sklearn-color-unfitted-level-1: #f6e4d2;\n",
       "  --sklearn-color-unfitted-level-2: #ffe0b3;\n",
       "  --sklearn-color-unfitted-level-3: chocolate;\n",
       "  /* Definition of color scheme for fitted estimators */\n",
       "  --sklearn-color-fitted-level-0: #f0f8ff;\n",
       "  --sklearn-color-fitted-level-1: #d4ebff;\n",
       "  --sklearn-color-fitted-level-2: #b3dbfd;\n",
       "  --sklearn-color-fitted-level-3: cornflowerblue;\n",
       "\n",
       "  /* Specific color for light theme */\n",
       "  --sklearn-color-text-on-default-background: var(--sg-text-color, var(--theme-code-foreground, var(--jp-content-font-color1, black)));\n",
       "  --sklearn-color-background: var(--sg-background-color, var(--theme-background, var(--jp-layout-color0, white)));\n",
       "  --sklearn-color-border-box: var(--sg-text-color, var(--theme-code-foreground, var(--jp-content-font-color1, black)));\n",
       "  --sklearn-color-icon: #696969;\n",
       "\n",
       "  @media (prefers-color-scheme: dark) {\n",
       "    /* Redefinition of color scheme for dark theme */\n",
       "    --sklearn-color-text-on-default-background: var(--sg-text-color, var(--theme-code-foreground, var(--jp-content-font-color1, white)));\n",
       "    --sklearn-color-background: var(--sg-background-color, var(--theme-background, var(--jp-layout-color0, #111)));\n",
       "    --sklearn-color-border-box: var(--sg-text-color, var(--theme-code-foreground, var(--jp-content-font-color1, white)));\n",
       "    --sklearn-color-icon: #878787;\n",
       "  }\n",
       "}\n",
       "\n",
       "#sk-container-id-2 {\n",
       "  color: var(--sklearn-color-text);\n",
       "}\n",
       "\n",
       "#sk-container-id-2 pre {\n",
       "  padding: 0;\n",
       "}\n",
       "\n",
       "#sk-container-id-2 input.sk-hidden--visually {\n",
       "  border: 0;\n",
       "  clip: rect(1px 1px 1px 1px);\n",
       "  clip: rect(1px, 1px, 1px, 1px);\n",
       "  height: 1px;\n",
       "  margin: -1px;\n",
       "  overflow: hidden;\n",
       "  padding: 0;\n",
       "  position: absolute;\n",
       "  width: 1px;\n",
       "}\n",
       "\n",
       "#sk-container-id-2 div.sk-dashed-wrapped {\n",
       "  border: 1px dashed var(--sklearn-color-line);\n",
       "  margin: 0 0.4em 0.5em 0.4em;\n",
       "  box-sizing: border-box;\n",
       "  padding-bottom: 0.4em;\n",
       "  background-color: var(--sklearn-color-background);\n",
       "}\n",
       "\n",
       "#sk-container-id-2 div.sk-container {\n",
       "  /* jupyter's `normalize.less` sets `[hidden] { display: none; }`\n",
       "     but bootstrap.min.css set `[hidden] { display: none !important; }`\n",
       "     so we also need the `!important` here to be able to override the\n",
       "     default hidden behavior on the sphinx rendered scikit-learn.org.\n",
       "     See: https://github.com/scikit-learn/scikit-learn/issues/21755 */\n",
       "  display: inline-block !important;\n",
       "  position: relative;\n",
       "}\n",
       "\n",
       "#sk-container-id-2 div.sk-text-repr-fallback {\n",
       "  display: none;\n",
       "}\n",
       "\n",
       "div.sk-parallel-item,\n",
       "div.sk-serial,\n",
       "div.sk-item {\n",
       "  /* draw centered vertical line to link estimators */\n",
       "  background-image: linear-gradient(var(--sklearn-color-text-on-default-background), var(--sklearn-color-text-on-default-background));\n",
       "  background-size: 2px 100%;\n",
       "  background-repeat: no-repeat;\n",
       "  background-position: center center;\n",
       "}\n",
       "\n",
       "/* Parallel-specific style estimator block */\n",
       "\n",
       "#sk-container-id-2 div.sk-parallel-item::after {\n",
       "  content: \"\";\n",
       "  width: 100%;\n",
       "  border-bottom: 2px solid var(--sklearn-color-text-on-default-background);\n",
       "  flex-grow: 1;\n",
       "}\n",
       "\n",
       "#sk-container-id-2 div.sk-parallel {\n",
       "  display: flex;\n",
       "  align-items: stretch;\n",
       "  justify-content: center;\n",
       "  background-color: var(--sklearn-color-background);\n",
       "  position: relative;\n",
       "}\n",
       "\n",
       "#sk-container-id-2 div.sk-parallel-item {\n",
       "  display: flex;\n",
       "  flex-direction: column;\n",
       "}\n",
       "\n",
       "#sk-container-id-2 div.sk-parallel-item:first-child::after {\n",
       "  align-self: flex-end;\n",
       "  width: 50%;\n",
       "}\n",
       "\n",
       "#sk-container-id-2 div.sk-parallel-item:last-child::after {\n",
       "  align-self: flex-start;\n",
       "  width: 50%;\n",
       "}\n",
       "\n",
       "#sk-container-id-2 div.sk-parallel-item:only-child::after {\n",
       "  width: 0;\n",
       "}\n",
       "\n",
       "/* Serial-specific style estimator block */\n",
       "\n",
       "#sk-container-id-2 div.sk-serial {\n",
       "  display: flex;\n",
       "  flex-direction: column;\n",
       "  align-items: center;\n",
       "  background-color: var(--sklearn-color-background);\n",
       "  padding-right: 1em;\n",
       "  padding-left: 1em;\n",
       "}\n",
       "\n",
       "\n",
       "/* Toggleable style: style used for estimator/Pipeline/ColumnTransformer box that is\n",
       "clickable and can be expanded/collapsed.\n",
       "- Pipeline and ColumnTransformer use this feature and define the default style\n",
       "- Estimators will overwrite some part of the style using the `sk-estimator` class\n",
       "*/\n",
       "\n",
       "/* Pipeline and ColumnTransformer style (default) */\n",
       "\n",
       "#sk-container-id-2 div.sk-toggleable {\n",
       "  /* Default theme specific background. It is overwritten whether we have a\n",
       "  specific estimator or a Pipeline/ColumnTransformer */\n",
       "  background-color: var(--sklearn-color-background);\n",
       "}\n",
       "\n",
       "/* Toggleable label */\n",
       "#sk-container-id-2 label.sk-toggleable__label {\n",
       "  cursor: pointer;\n",
       "  display: flex;\n",
       "  width: 100%;\n",
       "  margin-bottom: 0;\n",
       "  padding: 0.5em;\n",
       "  box-sizing: border-box;\n",
       "  text-align: center;\n",
       "  align-items: start;\n",
       "  justify-content: space-between;\n",
       "  gap: 0.5em;\n",
       "}\n",
       "\n",
       "#sk-container-id-2 label.sk-toggleable__label .caption {\n",
       "  font-size: 0.6rem;\n",
       "  font-weight: lighter;\n",
       "  color: var(--sklearn-color-text-muted);\n",
       "}\n",
       "\n",
       "#sk-container-id-2 label.sk-toggleable__label-arrow:before {\n",
       "  /* Arrow on the left of the label */\n",
       "  content: \"▸\";\n",
       "  float: left;\n",
       "  margin-right: 0.25em;\n",
       "  color: var(--sklearn-color-icon);\n",
       "}\n",
       "\n",
       "#sk-container-id-2 label.sk-toggleable__label-arrow:hover:before {\n",
       "  color: var(--sklearn-color-text);\n",
       "}\n",
       "\n",
       "/* Toggleable content - dropdown */\n",
       "\n",
       "#sk-container-id-2 div.sk-toggleable__content {\n",
       "  max-height: 0;\n",
       "  max-width: 0;\n",
       "  overflow: hidden;\n",
       "  text-align: left;\n",
       "  /* unfitted */\n",
       "  background-color: var(--sklearn-color-unfitted-level-0);\n",
       "}\n",
       "\n",
       "#sk-container-id-2 div.sk-toggleable__content.fitted {\n",
       "  /* fitted */\n",
       "  background-color: var(--sklearn-color-fitted-level-0);\n",
       "}\n",
       "\n",
       "#sk-container-id-2 div.sk-toggleable__content pre {\n",
       "  margin: 0.2em;\n",
       "  border-radius: 0.25em;\n",
       "  color: var(--sklearn-color-text);\n",
       "  /* unfitted */\n",
       "  background-color: var(--sklearn-color-unfitted-level-0);\n",
       "}\n",
       "\n",
       "#sk-container-id-2 div.sk-toggleable__content.fitted pre {\n",
       "  /* unfitted */\n",
       "  background-color: var(--sklearn-color-fitted-level-0);\n",
       "}\n",
       "\n",
       "#sk-container-id-2 input.sk-toggleable__control:checked~div.sk-toggleable__content {\n",
       "  /* Expand drop-down */\n",
       "  max-height: 200px;\n",
       "  max-width: 100%;\n",
       "  overflow: auto;\n",
       "}\n",
       "\n",
       "#sk-container-id-2 input.sk-toggleable__control:checked~label.sk-toggleable__label-arrow:before {\n",
       "  content: \"▾\";\n",
       "}\n",
       "\n",
       "/* Pipeline/ColumnTransformer-specific style */\n",
       "\n",
       "#sk-container-id-2 div.sk-label input.sk-toggleable__control:checked~label.sk-toggleable__label {\n",
       "  color: var(--sklearn-color-text);\n",
       "  background-color: var(--sklearn-color-unfitted-level-2);\n",
       "}\n",
       "\n",
       "#sk-container-id-2 div.sk-label.fitted input.sk-toggleable__control:checked~label.sk-toggleable__label {\n",
       "  background-color: var(--sklearn-color-fitted-level-2);\n",
       "}\n",
       "\n",
       "/* Estimator-specific style */\n",
       "\n",
       "/* Colorize estimator box */\n",
       "#sk-container-id-2 div.sk-estimator input.sk-toggleable__control:checked~label.sk-toggleable__label {\n",
       "  /* unfitted */\n",
       "  background-color: var(--sklearn-color-unfitted-level-2);\n",
       "}\n",
       "\n",
       "#sk-container-id-2 div.sk-estimator.fitted input.sk-toggleable__control:checked~label.sk-toggleable__label {\n",
       "  /* fitted */\n",
       "  background-color: var(--sklearn-color-fitted-level-2);\n",
       "}\n",
       "\n",
       "#sk-container-id-2 div.sk-label label.sk-toggleable__label,\n",
       "#sk-container-id-2 div.sk-label label {\n",
       "  /* The background is the default theme color */\n",
       "  color: var(--sklearn-color-text-on-default-background);\n",
       "}\n",
       "\n",
       "/* On hover, darken the color of the background */\n",
       "#sk-container-id-2 div.sk-label:hover label.sk-toggleable__label {\n",
       "  color: var(--sklearn-color-text);\n",
       "  background-color: var(--sklearn-color-unfitted-level-2);\n",
       "}\n",
       "\n",
       "/* Label box, darken color on hover, fitted */\n",
       "#sk-container-id-2 div.sk-label.fitted:hover label.sk-toggleable__label.fitted {\n",
       "  color: var(--sklearn-color-text);\n",
       "  background-color: var(--sklearn-color-fitted-level-2);\n",
       "}\n",
       "\n",
       "/* Estimator label */\n",
       "\n",
       "#sk-container-id-2 div.sk-label label {\n",
       "  font-family: monospace;\n",
       "  font-weight: bold;\n",
       "  display: inline-block;\n",
       "  line-height: 1.2em;\n",
       "}\n",
       "\n",
       "#sk-container-id-2 div.sk-label-container {\n",
       "  text-align: center;\n",
       "}\n",
       "\n",
       "/* Estimator-specific */\n",
       "#sk-container-id-2 div.sk-estimator {\n",
       "  font-family: monospace;\n",
       "  border: 1px dotted var(--sklearn-color-border-box);\n",
       "  border-radius: 0.25em;\n",
       "  box-sizing: border-box;\n",
       "  margin-bottom: 0.5em;\n",
       "  /* unfitted */\n",
       "  background-color: var(--sklearn-color-unfitted-level-0);\n",
       "}\n",
       "\n",
       "#sk-container-id-2 div.sk-estimator.fitted {\n",
       "  /* fitted */\n",
       "  background-color: var(--sklearn-color-fitted-level-0);\n",
       "}\n",
       "\n",
       "/* on hover */\n",
       "#sk-container-id-2 div.sk-estimator:hover {\n",
       "  /* unfitted */\n",
       "  background-color: var(--sklearn-color-unfitted-level-2);\n",
       "}\n",
       "\n",
       "#sk-container-id-2 div.sk-estimator.fitted:hover {\n",
       "  /* fitted */\n",
       "  background-color: var(--sklearn-color-fitted-level-2);\n",
       "}\n",
       "\n",
       "/* Specification for estimator info (e.g. \"i\" and \"?\") */\n",
       "\n",
       "/* Common style for \"i\" and \"?\" */\n",
       "\n",
       ".sk-estimator-doc-link,\n",
       "a:link.sk-estimator-doc-link,\n",
       "a:visited.sk-estimator-doc-link {\n",
       "  float: right;\n",
       "  font-size: smaller;\n",
       "  line-height: 1em;\n",
       "  font-family: monospace;\n",
       "  background-color: var(--sklearn-color-background);\n",
       "  border-radius: 1em;\n",
       "  height: 1em;\n",
       "  width: 1em;\n",
       "  text-decoration: none !important;\n",
       "  margin-left: 0.5em;\n",
       "  text-align: center;\n",
       "  /* unfitted */\n",
       "  border: var(--sklearn-color-unfitted-level-1) 1pt solid;\n",
       "  color: var(--sklearn-color-unfitted-level-1);\n",
       "}\n",
       "\n",
       ".sk-estimator-doc-link.fitted,\n",
       "a:link.sk-estimator-doc-link.fitted,\n",
       "a:visited.sk-estimator-doc-link.fitted {\n",
       "  /* fitted */\n",
       "  border: var(--sklearn-color-fitted-level-1) 1pt solid;\n",
       "  color: var(--sklearn-color-fitted-level-1);\n",
       "}\n",
       "\n",
       "/* On hover */\n",
       "div.sk-estimator:hover .sk-estimator-doc-link:hover,\n",
       ".sk-estimator-doc-link:hover,\n",
       "div.sk-label-container:hover .sk-estimator-doc-link:hover,\n",
       ".sk-estimator-doc-link:hover {\n",
       "  /* unfitted */\n",
       "  background-color: var(--sklearn-color-unfitted-level-3);\n",
       "  color: var(--sklearn-color-background);\n",
       "  text-decoration: none;\n",
       "}\n",
       "\n",
       "div.sk-estimator.fitted:hover .sk-estimator-doc-link.fitted:hover,\n",
       ".sk-estimator-doc-link.fitted:hover,\n",
       "div.sk-label-container:hover .sk-estimator-doc-link.fitted:hover,\n",
       ".sk-estimator-doc-link.fitted:hover {\n",
       "  /* fitted */\n",
       "  background-color: var(--sklearn-color-fitted-level-3);\n",
       "  color: var(--sklearn-color-background);\n",
       "  text-decoration: none;\n",
       "}\n",
       "\n",
       "/* Span, style for the box shown on hovering the info icon */\n",
       ".sk-estimator-doc-link span {\n",
       "  display: none;\n",
       "  z-index: 9999;\n",
       "  position: relative;\n",
       "  font-weight: normal;\n",
       "  right: .2ex;\n",
       "  padding: .5ex;\n",
       "  margin: .5ex;\n",
       "  width: min-content;\n",
       "  min-width: 20ex;\n",
       "  max-width: 50ex;\n",
       "  color: var(--sklearn-color-text);\n",
       "  box-shadow: 2pt 2pt 4pt #999;\n",
       "  /* unfitted */\n",
       "  background: var(--sklearn-color-unfitted-level-0);\n",
       "  border: .5pt solid var(--sklearn-color-unfitted-level-3);\n",
       "}\n",
       "\n",
       ".sk-estimator-doc-link.fitted span {\n",
       "  /* fitted */\n",
       "  background: var(--sklearn-color-fitted-level-0);\n",
       "  border: var(--sklearn-color-fitted-level-3);\n",
       "}\n",
       "\n",
       ".sk-estimator-doc-link:hover span {\n",
       "  display: block;\n",
       "}\n",
       "\n",
       "/* \"?\"-specific style due to the `<a>` HTML tag */\n",
       "\n",
       "#sk-container-id-2 a.estimator_doc_link {\n",
       "  float: right;\n",
       "  font-size: 1rem;\n",
       "  line-height: 1em;\n",
       "  font-family: monospace;\n",
       "  background-color: var(--sklearn-color-background);\n",
       "  border-radius: 1rem;\n",
       "  height: 1rem;\n",
       "  width: 1rem;\n",
       "  text-decoration: none;\n",
       "  /* unfitted */\n",
       "  color: var(--sklearn-color-unfitted-level-1);\n",
       "  border: var(--sklearn-color-unfitted-level-1) 1pt solid;\n",
       "}\n",
       "\n",
       "#sk-container-id-2 a.estimator_doc_link.fitted {\n",
       "  /* fitted */\n",
       "  border: var(--sklearn-color-fitted-level-1) 1pt solid;\n",
       "  color: var(--sklearn-color-fitted-level-1);\n",
       "}\n",
       "\n",
       "/* On hover */\n",
       "#sk-container-id-2 a.estimator_doc_link:hover {\n",
       "  /* unfitted */\n",
       "  background-color: var(--sklearn-color-unfitted-level-3);\n",
       "  color: var(--sklearn-color-background);\n",
       "  text-decoration: none;\n",
       "}\n",
       "\n",
       "#sk-container-id-2 a.estimator_doc_link.fitted:hover {\n",
       "  /* fitted */\n",
       "  background-color: var(--sklearn-color-fitted-level-3);\n",
       "}\n",
       "</style><div id=\"sk-container-id-2\" class=\"sk-top-container\"><div class=\"sk-text-repr-fallback\"><pre>RandomForestClassifier(random_state=42)</pre><b>In a Jupyter environment, please rerun this cell to show the HTML representation or trust the notebook. <br />On GitHub, the HTML representation is unable to render, please try loading this page with nbviewer.org.</b></div><div class=\"sk-container\" hidden><div class=\"sk-item\"><div class=\"sk-estimator fitted sk-toggleable\"><input class=\"sk-toggleable__control sk-hidden--visually\" id=\"sk-estimator-id-2\" type=\"checkbox\" checked><label for=\"sk-estimator-id-2\" class=\"sk-toggleable__label fitted sk-toggleable__label-arrow\"><div><div>RandomForestClassifier</div></div><div><a class=\"sk-estimator-doc-link fitted\" rel=\"noreferrer\" target=\"_blank\" href=\"https://scikit-learn.org/1.6/modules/generated/sklearn.ensemble.RandomForestClassifier.html\">?<span>Documentation for RandomForestClassifier</span></a><span class=\"sk-estimator-doc-link fitted\">i<span>Fitted</span></span></div></label><div class=\"sk-toggleable__content fitted\"><pre>RandomForestClassifier(random_state=42)</pre></div> </div></div></div></div>"
      ],
      "text/plain": [
       "RandomForestClassifier(random_state=42)"
      ]
     },
     "execution_count": 84,
     "metadata": {},
     "output_type": "execute_result"
    }
   ],
   "source": [
    "rf_model = RandomForestClassifier(random_state=42, n_estimators=100)  # 100 trees\n",
    "rf_model.fit(X_train, y_train)"
   ]
  },
  {
   "cell_type": "code",
   "execution_count": 85,
   "id": "ff707c9c-e886-4ccb-8f5b-a4d7194e7acd",
   "metadata": {},
   "outputs": [],
   "source": [
    "y_pred_rf = rf_model.predict(X_test)"
   ]
  },
  {
   "cell_type": "code",
   "execution_count": 86,
   "id": "4bb5d4b0-281a-4264-90f7-3310e4620df1",
   "metadata": {},
   "outputs": [],
   "source": [
    "# Evaluate the model\n",
    "accuracy_rf = accuracy_score(y_test, y_pred_rf)\n",
    "precision_rf = precision_score(y_test, y_pred_rf)\n",
    "recall_rf = recall_score(y_test, y_pred_rf)\n",
    "f1_rf = f1_score(y_test, y_pred_rf)"
   ]
  },
  {
   "cell_type": "code",
   "execution_count": 87,
   "id": "906ed263-a107-494a-aca3-4507314bbd12",
   "metadata": {},
   "outputs": [
    {
     "name": "stdout",
     "output_type": "stream",
     "text": [
      "Random Forest Evaluation:\n",
      "Accuracy: 0.99\n",
      "Precision: 1.00\n",
      "Recall: 0.94\n",
      "F1-Score: 0.97\n",
      "\n",
      "Detailed Classification Report:\n",
      "              precision    recall  f1-score   support\n",
      "\n",
      "           0       0.99      1.00      1.00      1999\n",
      "           1       1.00      0.94      0.97       230\n",
      "\n",
      "    accuracy                           0.99      2229\n",
      "   macro avg       1.00      0.97      0.98      2229\n",
      "weighted avg       0.99      0.99      0.99      2229\n",
      "\n"
     ]
    }
   ],
   "source": [
    "print(\"Random Forest Evaluation:\")\n",
    "print(f\"Accuracy: {accuracy_rf:.2f}\")\n",
    "print(f\"Precision: {precision_rf:.2f}\")\n",
    "print(f\"Recall: {recall_rf:.2f}\")\n",
    "print(f\"F1-Score: {f1_rf:.2f}\")\n",
    "print(\"\\nDetailed Classification Report:\")\n",
    "print(classification_report(y_test, y_pred_rf))"
   ]
  },
  {
   "cell_type": "code",
   "execution_count": 88,
   "id": "7eacd823-865b-4ea0-8da0-1d0030348fa7",
   "metadata": {},
   "outputs": [],
   "source": [
    "# Calculate and plot ROC curve\n",
    "fpr, tpr, _ = roc_curve(y_test, y_pred_proba)\n",
    "roc_auc = roc_auc_score(y_test, y_pred_proba)"
   ]
  },
  {
   "cell_type": "code",
   "execution_count": 89,
   "id": "1dedf0f9-7ce7-4305-b7c6-3fd1773af69e",
   "metadata": {},
   "outputs": [
    {
     "data": {
      "text/plain": [
       "<matplotlib.legend.Legend at 0x16b3ae810>"
      ]
     },
     "execution_count": 89,
     "metadata": {},
     "output_type": "execute_result"
    },
    {
     "data": {
      "image/png": "[encoded data removed]",
      "text/plain": [
       "<Figure size 1200x500 with 1 Axes>"
      ]
     },
     "metadata": {},
     "output_type": "display_data"
    }
   ],
   "source": [
    "plt.figure(figsize=(12, 5))\n",
    "\n",
    "# ROC Curve\n",
    "plt.subplot(1, 2, 1)\n",
    "plt.plot(fpr, tpr, color='darkorange', lw=2, label=f'ROC curve (area = {roc_auc:.2f})')\n",
    "plt.plot([0, 1], [0, 1], color='navy', lw=2, linestyle='--')\n",
    "plt.xlim([0.0, 1.0])\n",
    "plt.ylim([0.0, 1.05])\n",
    "plt.xlabel('False Positive Rate')\n",
    "plt.ylabel('True Positive Rate')\n",
    "plt.title('ROC curve for Random Forest')\n",
    "plt.legend(loc=\"lower right\")"
   ]
  },
  {
   "cell_type": "code",
   "execution_count": 90,
   "id": "c3cee07e-e04b-4fff-8c2f-f26146251f36",
   "metadata": {},
   "outputs": [
    {
     "data": {
      "image/png": "[encoded data removed]",
      "text/plain": [
       "<Figure size 800x600 with 2 Axes>"
      ]
     },
     "metadata": {},
     "output_type": "display_data"
    }
   ],
   "source": [
    "cm_rf = confusion_matrix(y_test, y_pred_rf)\n",
    "plt.figure(figsize=(8, 6))\n",
    "sns.heatmap(cm_rf, annot=True, fmt='d', cmap='Blues', xticklabels=['Non-Fraud', 'Fraud'], yticklabels=['Non-Fraud', 'Fraud'])\n",
    "plt.title('Confusion Matrix for Random Forest')\n",
    "plt.xlabel('Predicted Label')\n",
    "plt.ylabel('True Label')\n",
    "plt.show()"
   ]
  },
  {
   "cell_type": "code",
   "execution_count": 91,
   "id": "7eadd3c7-77c1-4e10-bb33-f2117a9d06ff",
   "metadata": {},
   "outputs": [],
   "source": [
    "from sklearn.svm import SVC\n",
    "from sklearn.metrics import accuracy_score, precision_score, recall_score, f1_score, classification_report\n",
    "import numpy as np"
   ]
  },
  {
   "cell_type": "code",
   "execution_count": null,
   "id": "871099d2-d715-412e-820c-b948848db348",
   "metadata": {},
   "outputs": [],
   "source": [
    "svm_model = SVC(random_state=42, probability=True)  # probability=True for ROC curve if needed\n",
    "svm_model.fit(X_train, y_train)"
   ]
  },
  {
   "cell_type": "code",
   "execution_count": null,
   "id": "ed414409-b59f-4822-950c-ea9c571b8f46",
   "metadata": {},
   "outputs": [],
   "source": [
    "y_pred_svm = svm_model.predict(X_test)"
   ]
  },
  {
   "cell_type": "code",
   "execution_count": null,
   "id": "d969a5d2-cb4c-4ac3-8834-0e148b217722",
   "metadata": {},
   "outputs": [],
   "source": [
    "# Evaluate the model\n",
    "accuracy_svm = accuracy_score(y_test, y_pred_svm)\n",
    "precision_svm = precision_score(y_test, y_pred_svm)\n",
    "recall_svm = recall_score(y_test, y_pred_svm)\n",
    "f1_svm = f1_score(y_test, y_pred_svm)"
   ]
  },
  {
   "cell_type": "code",
   "execution_count": null,
   "id": "b8f83e55-32ea-4fa0-b883-996f494b53be",
   "metadata": {},
   "outputs": [],
   "source": [
    "print(\"SVM Evaluation:\")\n",
    "print(f\"Accuracy: {accuracy_svm:.2f}\")\n",
    "print(f\"Precision: {precision_svm:.2f}\")\n",
    "print(f\"Recall: {recall_svm:.2f}\")\n",
    "print(f\"F1-Score: {f1_svm:.2f}\")\n",
    "print(\"\\nDetailed Classification Report:\")\n",
    "print(classification_report(y_test, y_pred_svm))"
   ]
  },
  {
   "cell_type": "code",
   "execution_count": null,
   "id": "887acbad-772f-43c6-9f9d-763a6739e5bb",
   "metadata": {},
   "outputs": [],
   "source": [
    "y_pred_proba_svm = svm_model.predict_proba(X_test)[:, 1]  # Probability estimates for the positive class"
   ]
  },
  {
   "cell_type": "code",
   "execution_count": null,
   "id": "b7652184-6f68-46da-9152-f9be4190164d",
   "metadata": {},
   "outputs": [],
   "source": [
    "# Calculate ROC curve and ROC area\n",
    "fpr, tpr, _ = roc_curve(y_test, y_pred_proba_svm)\n",
    "roc_auc = roc_auc_score(y_test, y_pred_proba_svm)\n",
    "print(roc_auc)"
   ]
  },
  {
   "cell_type": "code",
   "execution_count": null,
   "id": "08dfa161-228d-4a64-90a0-592607326384",
   "metadata": {},
   "outputs": [],
   "source": [
    "plt.figure()\n",
    "plt.plot(fpr, tpr, color='darkorange', lw=2, label=f'ROC curve (area = {roc_auc:.2f})')\n",
    "plt.plot([0, 1], [0, 1], color='navy', lw=2, linestyle='--')\n",
    "plt.xlim([0.0, 1.0])\n",
    "plt.ylim([0.0, 1.05])\n",
    "plt.xlabel('False Positive Rate')\n",
    "plt.ylabel('True Positive Rate')\n",
    "plt.title('ROC Curve for SVM')\n",
    "plt.legend(loc=\"lower right\")\n",
    "plt.show()\n",
    "\n",
    "print(\"ROC-AUC Score:\", roc_auc)"
   ]
  },
  {
   "cell_type": "code",
   "execution_count": null,
   "id": "9de9d059-c03f-4b97-a6e9-0851a7b34005",
   "metadata": {},
   "outputs": [],
   "source": [
    "cm_svm = confusion_matrix(y_test, y_pred_svm)\n",
    "plt.figure(figsize=(8, 6))\n",
    "sns.heatmap(cm_svm, annot=True, fmt='d', cmap='Blues', xticklabels=['Non-Fraud', 'Fraud'], yticklabels=['Non-Fraud', 'Fraud'])\n",
    "plt.title('Confusion Matrix for SVM')\n",
    "plt.xlabel('Predicted Label')\n",
    "plt.ylabel('True Label')\n",
    "plt.show()"
   ]
  },
  {
   "cell_type": "code",
   "execution_count": null,
   "id": "9d937599-f8b3-425d-af67-4a9d2b4b457a",
   "metadata": {},
   "outputs": [],
   "source": [
    "from xgboost import XGBClassifier\n",
    "from sklearn.metrics import accuracy_score, precision_score, recall_score, f1_score, classification_report, confusion_matrix"
   ]
  },
  {
   "cell_type": "code",
   "execution_count": null,
   "id": "4b8c8c36-ec2c-4525-a196-18116fa8797a",
   "metadata": {},
   "outputs": [],
   "source": [
    "xgb_model = XGBClassifier(random_state=42, use_label_encoder=False, eval_metric='logloss')\n",
    "xgb_model.fit(X_train, y_train)"
   ]
  },
  {
   "cell_type": "code",
   "execution_count": null,
   "id": "1ca79a68-37dc-4552-a70e-cb1cd15db44d",
   "metadata": {},
   "outputs": [],
   "source": [
    "y_pred_xgb = xgb_model.predict(X_test)"
   ]
  },
  {
   "cell_type": "code",
   "execution_count": null,
   "id": "8ed8913d-a218-47b0-b66c-e091109722dd",
   "metadata": {},
   "outputs": [],
   "source": [
    "accuracy_xgb = accuracy_score(y_test, y_pred_xgb)\n",
    "precision_xgb = precision_score(y_test, y_pred_xgb)\n",
    "recall_xgb = recall_score(y_test, y_pred_xgb)\n",
    "f1_xgb = f1_score(y_test, y_pred_xgb)"
   ]
  },
  {
   "cell_type": "code",
   "execution_count": null,
   "id": "648baf5f-84dd-4d7b-844f-2a2a51c8097e",
   "metadata": {},
   "outputs": [],
   "source": [
    "print(\"XGBoost Evaluation:\")\n",
    "print(f\"Accuracy: {accuracy_xgb:.2f}\")\n",
    "print(f\"Precision: {precision_xgb:.2f}\")\n",
    "print(f\"Recall: {recall_xgb:.2f}\")\n",
    "print(f\"F1-Score: {f1_xgb:.2f}\")\n",
    "print(\"\\nDetailed Classification Report:\")\n",
    "print(classification_report(y_test, y_pred_xgb))"
   ]
  },
  {
   "cell_type": "code",
   "execution_count": null,
   "id": "ddde86c4-0ea4-4894-a89a-3904c3b9ff57",
   "metadata": {},
   "outputs": [],
   "source": [
    "fpr, tpr, _ = roc_curve(y_test, y_pred_xgb)\n",
    "roc_auc = roc_auc_score(y_test, y_pred_xgb)\n",
    "print(roc_auc)"
   ]
  },
  {
   "cell_type": "code",
   "execution_count": null,
   "id": "18659d37-b967-4976-9378-a080c62f36c5",
   "metadata": {},
   "outputs": [],
   "source": [
    "plt.figure()\n",
    "plt.plot(fpr, tpr, color='darkorange', lw=2, label=f'ROC curve (area = {roc_auc:.2f})')\n",
    "plt.plot([0, 1], [0, 1], color='navy', lw=2, linestyle='--')\n",
    "plt.xlim([0.0, 1.0])\n",
    "plt.ylim([0.0, 1.05])\n",
    "plt.xlabel('False Positive Rate')\n",
    "plt.ylabel('True Positive Rate')\n",
    "plt.title('ROC Curve for XGBoost')\n",
    "plt.legend(loc=\"lower right\")\n",
    "plt.show()\n",
    "\n",
    "print(\"ROC-AUC Score:\", roc_auc)"
   ]
  },
  {
   "cell_type": "code",
   "execution_count": null,
   "id": "cc065928-4d43-4fb1-8298-bd63efe2f7a3",
   "metadata": {},
   "outputs": [],
   "source": [
    "cm_xgb = confusion_matrix(y_test, y_pred_xgb)\n",
    "plt.figure(figsize=(8, 6))\n",
    "sns.heatmap(cm_xgb, annot=True, fmt='d', cmap='Blues', xticklabels=['Non-Fraud', 'Fraud'], yticklabels=['Non-Fraud', 'Fraud'])\n",
    "plt.title('Confusion Matrix for XGBoost')\n",
    "plt.xlabel('Predicted Label')\n",
    "plt.ylabel('True Label')\n",
    "plt.show()"
   ]
  },
  {
   "cell_type": "code",
   "execution_count": null,
   "id": "fa09280e-a78c-4495-8d20-b66ec1965d13",
   "metadata": {},
   "outputs": [],
   "source": [
    "# Summary Comparison (to be run after all models)\n",
    "models = ['Logistic Regression', 'Random Forest', 'SVM', 'XGBoost']\n",
    "accuracies = [accuracy, accuracy_rf, accuracy_svm, accuracy_xgb]\n",
    "precisions = [precision, precision_rf, precision_svm, precision_xgb]\n",
    "recalls = [recall, recall_rf, recall_svm, recall_xgb]\n",
    "f1_scores = [f1, f1_rf, f1_svm, f1_xgb]"
   ]
  },
  {
   "cell_type": "code",
   "execution_count": null,
   "id": "c95fa6ee-8a73-4c32-a59c-a6f195375634",
   "metadata": {},
   "outputs": [],
   "source": [
    "comparison_df = pd.DataFrame({\n",
    "    'Model': models,\n",
    "    'Accuracy': accuracies,\n",
    "    'Precision': precisions,\n",
    "    'Recall': recalls,\n",
    "    'F1-Score': f1_scores\n",
    "})"
   ]
  },
  {
   "cell_type": "code",
   "execution_count": null,
   "id": "1b9b2a62-203a-423e-8a1e-3362a31a6f82",
   "metadata": {},
   "outputs": [],
   "source": [
    "print(\"\\nModel Comparison:\")\n",
    "print(comparison_df)"
   ]
  },
  {
   "cell_type": "code",
   "execution_count": null,
   "id": "116c1d84-987e-4efc-bf6c-fbfffe7d9af7",
   "metadata": {},
   "outputs": [],
   "source": [
    "# Set up the bar width and positions\n",
    "bar_width = 0.2\n",
    "index = range(len(models))"
   ]
  },
  {
   "cell_type": "code",
   "execution_count": null,
   "id": "43f01529-7e2f-4da7-807b-fba03f631a6f",
   "metadata": {},
   "outputs": [],
   "source": [
    "# Create the plot\n",
    "plt.figure(figsize=(10, 6))\n",
    "\n",
    "# Plot bars for each metric\n",
    "plt.bar(index, accuracies, bar_width, label='Accuracy', color='skyblue')\n",
    "plt.bar([i + bar_width for i in index], precisions, bar_width, label='Precision', color='lightgreen')\n",
    "plt.bar([i + 2 * bar_width for i in index], recalls, bar_width, label='Recall', color='salmon')\n",
    "plt.bar([i + 3 * bar_width for i in index], f1_scores, bar_width, label='F1-Score', color='lightcoral')\n",
    "\n",
    "# Customize the plot\n",
    "plt.xlabel('Models')\n",
    "plt.ylabel('Scores')\n",
    "plt.title('Model Performance Comparison')\n",
    "plt.xticks([i + 1.5 * bar_width for i in index], models, rotation=45)\n",
    "plt.legend()\n",
    "plt.tight_layout()\n",
    "\n",
    "# Display the plot\n",
    "plt.show()"
   ]
  },
  {
   "cell_type": "code",
   "execution_count": null,
   "id": "5b66ae43-54a0-4c2c-b7c0-189bdc6774c1",
   "metadata": {},
   "outputs": [],
   "source": [
    "best_model = comparison_df.loc[comparison_df['Recall'].idxmax()]\n",
    "print(f\"\\nBest Model based on Recall: {best_model['Model']} with Recall: {best_model['Recall']:.2f}\")"
   ]
  },
  {
   "cell_type": "code",
   "execution_count": null,
   "id": "e2f7e4f3-61e8-4962-b0c9-1b2da14dae5d",
   "metadata": {},
   "outputs": [],
   "source": [
    "best_model = comparison_df.loc[comparison_df['Accuracy'].idxmax()]\n",
    "print(f\"\\nBest Model based on Accuracy: {best_model['Model']} with Accuracy: {best_model['Accuracy']:.2f}\")"
   ]
  },
  {
   "cell_type": "code",
   "execution_count": null,
   "id": "992e139c-cf10-4ba1-ba06-70df7929e442",
   "metadata": {},
   "outputs": [],
   "source": [
    "best_model = comparison_df.loc[comparison_df['F1-Score'].idxmax()]\n",
    "print(f\"\\nBest Model based on F1-Score: {best_model['Model']} with F1-Score: {best_model['F1-Score']:.2f}\")"
   ]
  },
  {
   "cell_type": "code",
   "execution_count": null,
   "id": "841736cc-a3a5-474f-8f4a-aa041d5d2c05",
   "metadata": {},
   "outputs": [],
   "source": [
    "from xgboost import XGBClassifier\n",
    "from sklearn.model_selection import cross_val_score, GridSearchCV\n",
    "from sklearn.metrics import make_scorer, f1_score\n",
    "import numpy as np"
   ]
  },
  {
   "cell_type": "code",
   "execution_count": null,
   "id": "b2ac1a69-9937-4b66-a889-b80f86ff39ad",
   "metadata": {},
   "outputs": [],
   "source": [
    "X_full = pd.concat([X_train, X_test])\n",
    "y_full = pd.concat([y_train, y_test])"
   ]
  },
  {
   "cell_type": "code",
   "execution_count": null,
   "id": "a76f2c46-4b57-4d9a-8c5d-8762cd01aafb",
   "metadata": {},
   "outputs": [],
   "source": [
    "# Cross-validation\n",
    "xgb_model_cv = XGBClassifier(random_state=42, use_label_encoder=False, eval_metric='logloss')\n",
    "cv_scores = cross_val_score(xgb_model_cv, X_full, y_full, cv=5, scoring='f1')\n",
    "print(\"Cross-Validation F1-Scores:\", cv_scores)\n",
    "print(f\"Mean CV F1-Score: {cv_scores.mean():.2f} (+/- {cv_scores.std() * 2:.2f})\")"
   ]
  },
  {
   "cell_type": "code",
   "execution_count": null,
   "id": "ca56f4d2-f427-4144-9a6e-57adc32bf97b",
   "metadata": {},
   "outputs": [],
   "source": [
    "import warnings\n",
    "warnings.filterwarnings('ignore', category=UserWarning, module='xgboost')"
   ]
  },
  {
   "cell_type": "code",
   "execution_count": null,
   "id": "6cd8ba33-985b-4fbb-a957-52fe7938dcfd",
   "metadata": {},
   "outputs": [],
   "source": [
    "# Predict and evaluate on original test set\n",
    "y_pred_xgb = xgb_model.predict(X_test)\n",
    "print(\"\\nTuned XGBoost Evaluation on Test Set:\")\n",
    "print(classification_report(y_test, y_pred_xgb))"
   ]
  },
  {
   "cell_type": "code",
   "execution_count": null,
   "id": "1b490ff8-527f-4baf-a685-1da7b399c038",
   "metadata": {},
   "outputs": [],
   "source": [
    "# Confusion Matrix for tuned model\n",
    "cm_best_xgb = confusion_matrix(y_test, y_pred_xgb)\n",
    "plt.figure(figsize=(8, 6))\n",
    "sns.heatmap(cm_best_xgb, annot=True, fmt='d', cmap='Blues', xticklabels=['Non-Fraud', 'Fraud'], yticklabels=['Non-Fraud', 'Fraud'])\n",
    "plt.title('Confusion Matrix for Tuned XGBoost')\n",
    "plt.xlabel('Predicted Label')\n",
    "plt.ylabel('True Label')\n",
    "plt.show()"
   ]
  },
  {
   "cell_type": "code",
   "execution_count": null,
   "id": "b8ed766b-730e-4392-bb13-cf6c43feb7ec",
   "metadata": {},
   "outputs": [],
   "source": [
    "# Feature Importance for XGBoost\n",
    "importances = xgb_model.feature_importances_\n",
    "feature_names = X_train.columns\n",
    "feature_importance_df = pd.DataFrame({'Feature': feature_names, 'Importance': importances})\n",
    "feature_importance_df = feature_importance_df.sort_values(by='Importance', ascending=False)"
   ]
  },
  {
   "cell_type": "code",
   "execution_count": null,
   "id": "02e19794-5e3b-4139-a692-f0aae5d33411",
   "metadata": {},
   "outputs": [],
   "source": [
    "print(\"\\nFeature Importance:\")\n",
    "print(feature_importance_df)"
   ]
  },
  {
   "cell_type": "code",
   "execution_count": null,
   "id": "c90004f1-3efe-4232-8b81-a9e37696bc91",
   "metadata": {},
   "outputs": [],
   "source": [
    "import joblib\n",
    "from sklearn.metrics import classification_report, confusion_matrix\n",
    "import seaborn as sns\n",
    "import matplotlib.pyplot as plt"
   ]
  },
  {
   "cell_type": "code",
   "execution_count": null,
   "id": "4f156028-ca2c-409f-a032-fc6d18e632db",
   "metadata": {},
   "outputs": [],
   "source": [
    "# Retraining the full dataset with best parameters \n",
    "xgb_model.fit(X_full, y_full)"
   ]
  },
  {
   "cell_type": "code",
   "execution_count": null,
   "id": "de971d7c-8aed-47b6-9b17-62e60c5cf15e",
   "metadata": {},
   "outputs": [],
   "source": [
    "# Final prediction and evaluation on test set\n",
    "y_pred_final = xgb_model.predict(X_test)\n",
    "print(\"\\nFinal XGBoost Evaluation on Test Set:\")\n",
    "print(classification_report(y_test, y_pred_final))"
   ]
  },
  {
   "cell_type": "code",
   "execution_count": null,
   "id": "ef58a76f-cf27-4f2f-b984-e1fb2b6a57f1",
   "metadata": {},
   "outputs": [],
   "source": [
    "# Confusion Matrix for final model\n",
    "cm_final = confusion_matrix(y_test, y_pred_final)\n",
    "plt.figure(figsize=(8, 6))\n",
    "sns.heatmap(cm_final, annot=True, fmt='d', cmap='Blues', xticklabels=['Non-Fraud', 'Fraud'], yticklabels=['Non-Fraud', 'Fraud'])\n",
    "plt.title('Confusion Matrix for Final XGBoost Model')\n",
    "plt.xlabel('Predicted Label')\n",
    "plt.ylabel('True Label')\n",
    "plt.show()"
   ]
  },
  {
   "cell_type": "code",
   "execution_count": null,
   "id": "4b3b1a22-0b8c-4b5b-924e-30e714595bc9",
   "metadata": {},
   "outputs": [],
   "source": [
    "# Save the model\n",
    "model_filename = 'final_xgboost_model.joblib'\n",
    "joblib.dump(xgb_model, model_filename)\n",
    "print(f\"\\nModel saved as {model_filename}\")"
   ]
  },
  {
   "cell_type": "code",
   "execution_count": null,
   "id": "3dbf2635-9f88-4a4c-81cf-3fb502267811",
   "metadata": {},
   "outputs": [],
   "source": [
    "import joblib\n",
    "import pandas as pd"
   ]
  },
  {
   "cell_type": "code",
   "execution_count": null,
   "id": "8d9ce176-7f57-4c6b-ae9c-20bca967820c",
   "metadata": {},
   "outputs": [],
   "source": [
    "xgb_model = joblib.load('final_xgboost_model.joblib')"
   ]
  },
  {
   "cell_type": "code",
   "execution_count": null,
   "id": "1c2b252d-6020-4d28-854d-d5d1a43ae617",
   "metadata": {},
   "outputs": [],
   "source": [
    "def predict_fraud(model, data):\n",
    "    predictions = model.predict(data)\n",
    "    probabilities = model.predict_proba(data)[:, 1]\n",
    "    results = pd.DataFrame({'Prediction': predictions, 'Probability': probabilities})\n",
    "    return results"
   ]
  },
  {
   "cell_type": "code",
   "execution_count": null,
   "id": "6497a361-0cd0-4919-a267-d34c0400a311",
   "metadata": {},
   "outputs": [],
   "source": [
    "# Example (Test data)\n",
    "sample_test_data = X_test.iloc[:5] \n",
    "results = predict_fraud(xgb_model, sample_test_data)\n",
    "print(\"\\nExample Predictions on Test Data:\")\n",
    "print(results)"
   ]
  },
  {
   "cell_type": "code",
   "execution_count": null,
   "id": "021b5da4-e6e8-4eb1-ba05-b04e4566479b",
   "metadata": {},
   "outputs": [],
   "source": []
  }
 ],
 "metadata": {
  "kernelspec": {
   "display_name": "Python 3 (ipykernel)",
   "language": "python",
   "name": "python3"
  },
  "language_info": {
   "codemirror_mode": {
    "name": "ipython",
    "version": 3
   },
   "file_extension": ".py",
   "mimetype": "text/x-python",
   "name": "python",
   "nbconvert_exporter": "python",
   "pygments_lexer": "ipython3",
   "version": "3.12.7"
  }
 },
 "nbformat": 4,
 "nbformat_minor": 5
}
