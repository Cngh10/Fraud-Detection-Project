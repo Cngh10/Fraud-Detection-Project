{
 "cells": [
  {
   "cell_type": "code",
   "execution_count": 1,
   "id": "9633f1ab-6801-49e6-95bd-fad56402cd82",
   "metadata": {},
   "outputs": [],
   "source": [
    "import pandas as pd "
   ]
  },
  {
   "cell_type": "code",
   "execution_count": 3,
   "id": "50f6e53f-3936-4b79-a9e6-d8c580bd888c",
   "metadata": {},
   "outputs": [
    {
     "data": {
      "text/html": [
       "<div>\n",
       "<style scoped>\n",
       "    .dataframe tbody tr th:only-of-type {\n",
       "        vertical-align: middle;\n",
       "    }\n",
       "\n",
       "    .dataframe tbody tr th {\n",
       "        vertical-align: top;\n",
       "    }\n",
       "\n",
       "    .dataframe thead th {\n",
       "        text-align: right;\n",
       "    }\n",
       "</style>\n",
       "<table border=\"1\" class=\"dataframe\">\n",
       "  <thead>\n",
       "    <tr style=\"text-align: right;\">\n",
       "      <th></th>\n",
       "      <th>step</th>\n",
       "      <th>type</th>\n",
       "      <th>amount</th>\n",
       "      <th>nameOrig</th>\n",
       "      <th>oldbalanceOrg</th>\n",
       "      <th>newbalanceOrig</th>\n",
       "      <th>nameDest</th>\n",
       "      <th>oldbalanceDest</th>\n",
       "      <th>newbalanceDest</th>\n",
       "      <th>isFraud</th>\n",
       "    </tr>\n",
       "  </thead>\n",
       "  <tbody>\n",
       "    <tr>\n",
       "      <th>0</th>\n",
       "      <td>1</td>\n",
       "      <td>TRANSFER</td>\n",
       "      <td>181.0</td>\n",
       "      <td>C1305486145</td>\n",
       "      <td>181.0</td>\n",
       "      <td>0.0</td>\n",
       "      <td>C553264065</td>\n",
       "      <td>0.0</td>\n",
       "      <td>0.0</td>\n",
       "      <td>1</td>\n",
       "    </tr>\n",
       "    <tr>\n",
       "      <th>1</th>\n",
       "      <td>1</td>\n",
       "      <td>CASH_OUT</td>\n",
       "      <td>181.0</td>\n",
       "      <td>C840083671</td>\n",
       "      <td>181.0</td>\n",
       "      <td>0.0</td>\n",
       "      <td>C38997010</td>\n",
       "      <td>21182.0</td>\n",
       "      <td>0.0</td>\n",
       "      <td>1</td>\n",
       "    </tr>\n",
       "    <tr>\n",
       "      <th>2</th>\n",
       "      <td>1</td>\n",
       "      <td>TRANSFER</td>\n",
       "      <td>2806.0</td>\n",
       "      <td>C1420196421</td>\n",
       "      <td>2806.0</td>\n",
       "      <td>0.0</td>\n",
       "      <td>C972765878</td>\n",
       "      <td>0.0</td>\n",
       "      <td>0.0</td>\n",
       "      <td>1</td>\n",
       "    </tr>\n",
       "    <tr>\n",
       "      <th>3</th>\n",
       "      <td>1</td>\n",
       "      <td>CASH_OUT</td>\n",
       "      <td>2806.0</td>\n",
       "      <td>C2101527076</td>\n",
       "      <td>2806.0</td>\n",
       "      <td>0.0</td>\n",
       "      <td>C1007251739</td>\n",
       "      <td>26202.0</td>\n",
       "      <td>0.0</td>\n",
       "      <td>1</td>\n",
       "    </tr>\n",
       "    <tr>\n",
       "      <th>4</th>\n",
       "      <td>1</td>\n",
       "      <td>TRANSFER</td>\n",
       "      <td>20128.0</td>\n",
       "      <td>C137533655</td>\n",
       "      <td>20128.0</td>\n",
       "      <td>0.0</td>\n",
       "      <td>C1848415041</td>\n",
       "      <td>0.0</td>\n",
       "      <td>0.0</td>\n",
       "      <td>1</td>\n",
       "    </tr>\n",
       "  </tbody>\n",
       "</table>\n",
       "</div>"
      ],
      "text/plain": [
       "   step      type   amount     nameOrig  oldbalanceOrg  newbalanceOrig  \\\n",
       "0     1  TRANSFER    181.0  C1305486145          181.0             0.0   \n",
       "1     1  CASH_OUT    181.0   C840083671          181.0             0.0   \n",
       "2     1  TRANSFER   2806.0  C1420196421         2806.0             0.0   \n",
       "3     1  CASH_OUT   2806.0  C2101527076         2806.0             0.0   \n",
       "4     1  TRANSFER  20128.0   C137533655        20128.0             0.0   \n",
       "\n",
       "      nameDest  oldbalanceDest  newbalanceDest  isFraud  \n",
       "0   C553264065             0.0             0.0        1  \n",
       "1    C38997010         21182.0             0.0        1  \n",
       "2   C972765878             0.0             0.0        1  \n",
       "3  C1007251739         26202.0             0.0        1  \n",
       "4  C1848415041             0.0             0.0        1  "
      ]
     },
     "execution_count": 3,
     "metadata": {},
     "output_type": "execute_result"
    }
   ],
   "source": [
    "df = pd.read_csv('Fraud_Analysis_Dataset.csv')\n",
    "df.head()"
   ]
  },
  {
   "cell_type": "code",
   "execution_count": 5,
   "id": "a55fa067-8af9-48ad-9215-0cdf2aec9982",
   "metadata": {},
   "outputs": [
    {
     "name": "stdout",
     "output_type": "stream",
     "text": [
      "Dataset Shape (rows, columns): (11142, 10)\n"
     ]
    }
   ],
   "source": [
    "print(\"Dataset Shape (rows, columns):\", df.shape)"
   ]
  },
  {
   "cell_type": "code",
   "execution_count": 7,
   "id": "0024d94b-6a00-44d5-8ec3-5fef4fefc779",
   "metadata": {},
   "outputs": [
    {
     "name": "stdout",
     "output_type": "stream",
     "text": [
      "\n",
      "Column Names:\n"
     ]
    }
   ],
   "source": [
    "print(\"\\nColumn Names:\")"
   ]
  },
  {
   "cell_type": "code",
   "execution_count": 9,
   "id": "0b7cc902-62d6-4697-aa89-dc4a8f57420a",
   "metadata": {},
   "outputs": [
    {
     "data": {
      "text/plain": [
       "['step',\n",
       " 'type',\n",
       " 'amount',\n",
       " 'nameOrig',\n",
       " 'oldbalanceOrg',\n",
       " 'newbalanceOrig',\n",
       " 'nameDest',\n",
       " 'oldbalanceDest',\n",
       " 'newbalanceDest',\n",
       " 'isFraud']"
      ]
     },
     "execution_count": 9,
     "metadata": {},
     "output_type": "execute_result"
    }
   ],
   "source": [
    "df.columns.tolist()"
   ]
  },
  {
   "cell_type": "code",
   "execution_count": 11,
   "id": "194b3b72-bb5c-43e9-88bb-c964d6c0cdfa",
   "metadata": {},
   "outputs": [
    {
     "name": "stdout",
     "output_type": "stream",
     "text": [
      "\n",
      "Column Names: ['step', 'type', 'amount', 'nameOrig', 'oldbalanceOrg', 'newbalanceOrig', 'nameDest', 'oldbalanceDest', 'newbalanceDest', 'isFraud']\n"
     ]
    }
   ],
   "source": [
    "print(\"\\nColumn Names:\", df.columns.tolist())"
   ]
  },
  {
   "cell_type": "code",
   "execution_count": 15,
   "id": "df3bf82d-c78d-4472-8de8-2c087fa3afae",
   "metadata": {},
   "outputs": [
    {
     "name": "stdout",
     "output_type": "stream",
     "text": [
      "\n",
      "Missing Values:\n",
      " step              0\n",
      "type              0\n",
      "amount            0\n",
      "nameOrig          0\n",
      "oldbalanceOrg     0\n",
      "newbalanceOrig    0\n",
      "nameDest          0\n",
      "oldbalanceDest    0\n",
      "newbalanceDest    0\n",
      "isFraud           0\n",
      "dtype: int64\n"
     ]
    }
   ],
   "source": [
    "print(\"\\nMissing Values:\\n\", df.isnull().sum())"
   ]
  },
  {
   "cell_type": "code",
   "execution_count": 17,
   "id": "95b8af32-1f73-4455-a614-980017380958",
   "metadata": {},
   "outputs": [
    {
     "name": "stdout",
     "output_type": "stream",
     "text": [
      "Missing values after filling:\n",
      " step              0\n",
      "type              0\n",
      "amount            0\n",
      "nameOrig          0\n",
      "oldbalanceOrg     0\n",
      "newbalanceOrig    0\n",
      "nameDest          0\n",
      "oldbalanceDest    0\n",
      "newbalanceDest    0\n",
      "isFraud           0\n",
      "dtype: int64\n"
     ]
    }
   ],
   "source": [
    "df['amount'] = df['amount'].fillna(df['amount'].median())\n",
    "print(\"Missing values after filling:\\n\", df.isnull().sum())"
   ]
  },
  {
   "cell_type": "code",
   "execution_count": 19,
   "id": "3224e405-0ad6-4e0e-998a-f7a2fb8917ee",
   "metadata": {},
   "outputs": [
    {
     "name": "stdout",
     "output_type": "stream",
     "text": [
      "Number of rows after removing duplicates: 11142\n"
     ]
    }
   ],
   "source": [
    "df = df.drop_duplicates()\n",
    "print(\"Number of rows after removing duplicates:\", len(df))"
   ]
  },
  {
   "cell_type": "code",
   "execution_count": 21,
   "id": "87177d75-cbf6-49d5-87a9-f55060cb4bb0",
   "metadata": {},
   "outputs": [
    {
     "name": "stdout",
     "output_type": "stream",
     "text": [
      "First few rows after standardization:\n",
      "       nameOrig     nameDest\n",
      "0  C1305486145   C553264065\n",
      "1   C840083671    C38997010\n",
      "2  C1420196421   C972765878\n",
      "3  C2101527076  C1007251739\n",
      "4   C137533655  C1848415041\n"
     ]
    }
   ],
   "source": [
    "df['nameOrig'] = df['nameOrig'].str.upper()\n",
    "df['nameDest'] = df['nameDest'].str.upper()\n",
    "print(\"First few rows after standardization:\\n\", df[['nameOrig', 'nameDest']].head())"
   ]
  },
  {
   "cell_type": "code",
   "execution_count": 23,
   "id": "d7f06123-1f20-421b-8323-1c9b9e7e9eaf",
   "metadata": {},
   "outputs": [
    {
     "name": "stdout",
     "output_type": "stream",
     "text": [
      "Suspicious balance transactions:\n",
      "    step      type   amount  balance_diff_orig  balance_diff_dest\n",
      "0     1  TRANSFER    181.0              362.0              181.0\n",
      "1     1  CASH_OUT    181.0              362.0            21363.0\n",
      "2     1  TRANSFER   2806.0             5612.0             2806.0\n",
      "3     1  CASH_OUT   2806.0             5612.0            29008.0\n",
      "4     1  TRANSFER  20128.0            40256.0            20128.0\n"
     ]
    }
   ],
   "source": [
    "# Cell 7: Validate balances\n",
    "df['balance_diff_orig'] = df['oldbalanceOrg'] + df['amount'] - df['newbalanceOrig']\n",
    "df['is_suspicious_orig'] = df['balance_diff_orig'].abs() > 0.01\n",
    "df['balance_diff_dest'] = df['oldbalanceDest'] + df['amount'] - df['newbalanceDest']\n",
    "df['is_suspicious_dest'] = df['balance_diff_dest'].abs() > 0.01\n",
    "print(\"Suspicious balance transactions:\\n\", df[df['is_suspicious_orig'] | df['is_suspicious_dest']][['step', 'type', 'amount', 'balance_diff_orig', 'balance_diff_dest']].head())"
   ]
  },
  {
   "cell_type": "code",
   "execution_count": 27,
   "id": "3d7e0e27-f58c-4b2e-85f3-63caf620083c",
   "metadata": {},
   "outputs": [
    {
     "name": "stdout",
     "output_type": "stream",
     "text": [
      "Outliers:\n",
      "     step      type      amount  isFraud\n",
      "6      1  CASH_OUT   416001.33        1\n",
      "7      1  TRANSFER  1277212.77        1\n",
      "8      1  CASH_OUT  1277212.77        1\n",
      "16     2  TRANSFER  1096187.24        1\n",
      "17     2  CASH_OUT  1096187.24        1\n"
     ]
    }
   ],
   "source": [
    "Q1 = df['amount'].quantile(0.25)\n",
    "Q3 = df['amount'].quantile(0.75)\n",
    "IQR = Q3 - Q1\n",
    "lower_bound = Q1 - 1.5 * IQR\n",
    "upper_bound = Q3 + 1.5 * IQR\n",
    "df['is_outlier'] = (df['amount'] < lower_bound) | (df['amount'] > upper_bound)\n",
    "print(\"Outliers:\\n\", df[df['is_outlier']][['step', 'type', 'amount', 'isFraud']].head())"
   ]
  },
  {
   "cell_type": "code",
   "execution_count": 29,
   "id": "f8b1686d-6da1-4739-9d7b-11b0e358fde4",
   "metadata": {},
   "outputs": [
    {
     "name": "stdout",
     "output_type": "stream",
     "text": [
      "Fraud rate by transaction type:\n",
      " type\n",
      "TRANSFER    0.385246\n",
      "CASH_OUT    0.308926\n",
      "CASH_IN     0.000000\n",
      "DEBIT       0.000000\n",
      "PAYMENT     0.000000\n",
      "Name: isFraud, dtype: float64\n",
      "\n",
      "Large fraudulent transactions:\n",
      "       step      amount     nameOrig     nameDest\n",
      "7        1  1277212.77  C1334405552   C431687661\n",
      "8        1  1277212.77   C467632528   C716083600\n",
      "16       2  1096187.24  C1093223281  C2063275841\n",
      "17       2  1096187.24    C77163673   C644345897\n",
      "18       2   963532.14  C1440057381   C268086000\n",
      "...    ...         ...          ...          ...\n",
      "1123    94  2169679.91   C395839623   C925758982\n",
      "1124    94  1454592.61   C708686257   C191950817\n",
      "1125    94  1454592.61   C824268591   C819390198\n",
      "1128    94  2393539.65   C211205523  C1430994246\n",
      "1129    94  2393539.65  C1767333284   C610460069\n",
      "\n",
      "[386 rows x 4 columns]\n"
     ]
    }
   ],
   "source": [
    "\n",
    "print(\"Fraud rate by transaction type:\\n\", df.groupby('type')['isFraud'].mean().sort_values(ascending=False))\n",
    "print(\"\\nLarge fraudulent transactions:\\n\", df[(df['amount'] > df['amount'].quantile(0.95)) & (df['isFraud'] == 1)][['step', 'amount', 'nameOrig', 'nameDest']])"
   ]
  },
  {
   "cell_type": "code",
   "execution_count": 31,
   "id": "869ff81e-4ce5-4358-bdf2-d847af4048dc",
   "metadata": {},
   "outputs": [
    {
     "name": "stdout",
     "output_type": "stream",
     "text": [
      "Cleaned dataset saved as 'cleaned_fraud_dataset.csv'\n"
     ]
    }
   ],
   "source": [
    "\n",
    "df.to_csv('cleaned_fraud_dataset.csv', index=False)\n",
    "print(\"Cleaned dataset saved as 'cleaned_fraud_dataset.csv'\")"
   ]
  },
  {
   "cell_type": "code",
   "execution_count": 34,
   "id": "76d9cb48-4170-4767-850b-31707c47d454",
   "metadata": {},
   "outputs": [],
   "source": [
    "df_cleaned = pd.read_csv('cleaned_fraud_dataset.csv')"
   ]
  },
  {
   "cell_type": "code",
   "execution_count": 36,
   "id": "76d168d0-5f67-45d6-8d81-42ba97a92569",
   "metadata": {},
   "outputs": [
    {
     "name": "stdout",
     "output_type": "stream",
     "text": [
      "Dataset Shape: (11142, 15)\n"
     ]
    }
   ],
   "source": [
    "print(\"Dataset Shape:\", df_cleaned.shape)"
   ]
  },
  {
   "cell_type": "code",
   "execution_count": 38,
   "id": "713102b1-c48c-4573-8807-70060fe4c245",
   "metadata": {},
   "outputs": [
    {
     "name": "stdout",
     "output_type": "stream",
     "text": [
      "Columns: ['step', 'type', 'amount', 'nameOrig', 'oldbalanceOrg', 'newbalanceOrig', 'nameDest', 'oldbalanceDest', 'newbalanceDest', 'isFraud', 'balance_diff_orig', 'is_suspicious_orig', 'balance_diff_dest', 'is_suspicious_dest', 'is_outlier']\n"
     ]
    }
   ],
   "source": [
    "print(\"Columns:\", df_cleaned.columns.tolist())"
   ]
  },
  {
   "cell_type": "code",
   "execution_count": 42,
   "id": "dbc867e8-df96-4f19-9a7f-5789db1c4d3d",
   "metadata": {},
   "outputs": [
    {
     "name": "stdout",
     "output_type": "stream",
     "text": [
      "\n",
      "Missing Values:\n",
      " step                  0\n",
      "type                  0\n",
      "amount                0\n",
      "nameOrig              0\n",
      "oldbalanceOrg         0\n",
      "newbalanceOrig        0\n",
      "nameDest              0\n",
      "oldbalanceDest        0\n",
      "newbalanceDest        0\n",
      "isFraud               0\n",
      "balance_diff_orig     0\n",
      "is_suspicious_orig    0\n",
      "balance_diff_dest     0\n",
      "is_suspicious_dest    0\n",
      "is_outlier            0\n",
      "dtype: int64\n"
     ]
    }
   ],
   "source": [
    "print(\"\\nMissing Values:\\n\", df_cleaned.isnull().sum())"
   ]
  },
  {
   "cell_type": "code",
   "execution_count": 44,
   "id": "b2930c90-b40f-4cad-ab20-85762cf231a4",
   "metadata": {},
   "outputs": [
    {
     "name": "stdout",
     "output_type": "stream",
     "text": [
      "\n",
      "Data Types:\n",
      " step                    int64\n",
      "type                   object\n",
      "amount                float64\n",
      "nameOrig               object\n",
      "oldbalanceOrg         float64\n",
      "newbalanceOrig        float64\n",
      "nameDest               object\n",
      "oldbalanceDest        float64\n",
      "newbalanceDest        float64\n",
      "isFraud                 int64\n",
      "balance_diff_orig     float64\n",
      "is_suspicious_orig       bool\n",
      "balance_diff_dest     float64\n",
      "is_suspicious_dest       bool\n",
      "is_outlier               bool\n",
      "dtype: object\n"
     ]
    }
   ],
   "source": [
    "print(\"\\nData Types:\\n\", df_cleaned.dtypes)\n",
    "assert df_cleaned['amount'].dtype in ['float64', 'int64'], \"Amount column has incorrect type!\""
   ]
  },
  {
   "cell_type": "code",
   "execution_count": 46,
   "id": "c882b3f6-e20f-4932-807e-6bbbcfed342b",
   "metadata": {},
   "outputs": [
    {
     "name": "stdout",
     "output_type": "stream",
     "text": [
      "\n",
      "Number of balance discrepancies: 11142\n",
      "Sample balance issues:\n",
      "    step      type   amount  balance_diff_orig  balance_diff_dest\n",
      "0     1  TRANSFER    181.0              362.0              181.0\n",
      "1     1  CASH_OUT    181.0              362.0            21363.0\n",
      "2     1  TRANSFER   2806.0             5612.0             2806.0\n",
      "3     1  CASH_OUT   2806.0             5612.0            29008.0\n",
      "4     1  TRANSFER  20128.0            40256.0            20128.0\n"
     ]
    }
   ],
   "source": [
    "balance_issues = df_cleaned[(df_cleaned['balance_diff_orig'].abs() > 0.01) | (df_cleaned['balance_diff_dest'].abs() > 0.01)]\n",
    "print(\"\\nNumber of balance discrepancies:\", len(balance_issues))\n",
    "print(\"Sample balance issues:\\n\", balance_issues[['step', 'type', 'amount', 'balance_diff_orig', 'balance_diff_dest']].head())"
   ]
  },
  {
   "cell_type": "code",
   "execution_count": 48,
   "id": "a347fea0-f7e0-4ba1-adb0-d6b076c629b1",
   "metadata": {},
   "outputs": [
    {
     "name": "stdout",
     "output_type": "stream",
     "text": [
      "\n",
      "Fraud Rate: 10.25% (1142 out of 11142)\n"
     ]
    }
   ],
   "source": [
    "fraud_count = df_cleaned['isFraud'].sum()\n",
    "total_rows = len(df_cleaned)\n",
    "print(f\"\\nFraud Rate: {fraud_count/total_rows:.2%} ({fraud_count} out of {total_rows})\")\n",
    "assert fraud_count > 0, \"No fraudulent transactions found!\""
   ]
  },
  {
   "cell_type": "code",
   "execution_count": 50,
   "id": "446d3f11-8ddb-4f33-a27e-5ae49335d77c",
   "metadata": {},
   "outputs": [
    {
     "name": "stdout",
     "output_type": "stream",
     "text": [
      "\n",
      "Number of outlier transactions: 1172 (10.52%)\n"
     ]
    }
   ],
   "source": [
    "outlier_count = df_cleaned['is_outlier'].sum()\n",
    "print(f\"\\nNumber of outlier transactions: {outlier_count} ({outlier_count/total_rows:.2%})\")"
   ]
  },
  {
   "cell_type": "code",
   "execution_count": 52,
   "id": "e5f4525a-e808-404c-a44b-c547cca5571a",
   "metadata": {},
   "outputs": [
    {
     "name": "stdout",
     "output_type": "stream",
     "text": [
      "\n",
      "Validation Complete!\n",
      "Data is ready if: no missing values, reasonable fraud rate (e.g., 0.1%-5%), and acceptable balance discrepancies.\n"
     ]
    }
   ],
   "source": [
    "print(\"\\nValidation Complete!\")\n",
    "print(\"Data is ready if: no missing values, reasonable fraud rate (e.g., 0.1%-5%), and acceptable balance discrepancies.\")"
   ]
  },
  {
   "cell_type": "code",
   "execution_count": 61,
   "id": "5c40f94d-ccd3-4603-a8e8-e6f4d7587675",
   "metadata": {},
   "outputs": [
    {
     "name": "stdout",
     "output_type": "stream",
     "text": [
      "Dataset Shape: (11142, 15)\n",
      "Fraud Distribution:\n",
      " isFraud\n",
      "0    10000\n",
      "1     1142\n",
      "Name: count, dtype: int64\n",
      "Current Fraud Rate: 10.249506372285047 %\n"
     ]
    }
   ],
   "source": [
    "# Cell 12: Reconfirm dataset\n",
    "print(\"Dataset Shape:\", df.shape)\n",
    "print(\"Fraud Distribution:\\n\", df['isFraud'].value_counts())\n",
    "print(\"Current Fraud Rate:\", df['isFraud'].mean() * 100, \"%\")"
   ]
  },
  {
   "cell_type": "code",
   "execution_count": 63,
   "id": "61c216f2-36a0-4677-9ad9-c6c564eae9cd",
   "metadata": {},
   "outputs": [
    {
     "name": "stdout",
     "output_type": "stream",
     "text": [
      "New Dataset Shape: (10115, 15)\n",
      "New Fraud Rate: 1.1369253583786456 %\n",
      "Balanced dataset saved as 'balanced_fraud_dataset.csv'\n"
     ]
    }
   ],
   "source": [
    "# Downsample to ~1.14% fraud rate with available data\n",
    "n_non_fraud = len(df[df['isFraud'] == 0])  # Use all available non-fraud\n",
    "n_fraud = int((n_non_fraud / 0.9886) * 0.0114)  # Calculate fraud to get ~1.14%\n",
    "df_non_fraud = df[df['isFraud'] == 0].sample(n=n_non_fraud, random_state=42)\n",
    "df_fraud = df[df['isFraud'] == 1].sample(n=min(n_fraud, len(df[df['isFraud'] == 1])), random_state=42)\n",
    "df_balanced = pd.concat([df_non_fraud, df_fraud])\n",
    "print(\"New Dataset Shape:\", df_balanced.shape)\n",
    "print(\"New Fraud Rate:\", df_balanced['isFraud'].mean() * 100, \"%\")\n",
    "df_balanced.to_csv('balanced_fraud_dataset.csv', index=False)\n",
    "print(\"Balanced dataset saved as 'balanced_fraud_dataset.csv'\")"
   ]
  },
  {
   "cell_type": "code",
   "execution_count": 65,
   "id": "420f66ba-3fb2-4c8e-824b-ea015aeda295",
   "metadata": {},
   "outputs": [
    {
     "name": "stdout",
     "output_type": "stream",
     "text": [
      "Dataset Shape: (11142, 15)\n",
      "Fraud Distribution:\n",
      " isFraud\n",
      "0    10000\n",
      "1     1142\n",
      "Name: count, dtype: int64\n",
      "Current Fraud Rate: 10.249506372285047 %\n"
     ]
    }
   ],
   "source": [
    "print(\"Dataset Shape:\", df.shape)\n",
    "print(\"Fraud Distribution:\\n\", df['isFraud'].value_counts())\n",
    "print(\"Current Fraud Rate:\", df['isFraud'].mean() * 100, \"%\")"
   ]
  },
  {
   "cell_type": "code",
   "execution_count": 67,
   "id": "3170f349-e85f-4890-b48b-ed93b7b16e6b",
   "metadata": {},
   "outputs": [],
   "source": [
    "df_cleaned = pd.read_csv('balanced_fraud_dataset.csv')"
   ]
  },
  {
   "cell_type": "code",
   "execution_count": 69,
   "id": "b5ec1d1a-5607-4c4d-9d1f-5b3f205bb7ce",
   "metadata": {},
   "outputs": [
    {
     "data": {
      "text/html": [
       "<div>\n",
       "<style scoped>\n",
       "    .dataframe tbody tr th:only-of-type {\n",
       "        vertical-align: middle;\n",
       "    }\n",
       "\n",
       "    .dataframe tbody tr th {\n",
       "        vertical-align: top;\n",
       "    }\n",
       "\n",
       "    .dataframe thead th {\n",
       "        text-align: right;\n",
       "    }\n",
       "</style>\n",
       "<table border=\"1\" class=\"dataframe\">\n",
       "  <thead>\n",
       "    <tr style=\"text-align: right;\">\n",
       "      <th></th>\n",
       "      <th>step</th>\n",
       "      <th>type</th>\n",
       "      <th>amount</th>\n",
       "      <th>nameOrig</th>\n",
       "      <th>oldbalanceOrg</th>\n",
       "      <th>newbalanceOrig</th>\n",
       "      <th>nameDest</th>\n",
       "      <th>oldbalanceDest</th>\n",
       "      <th>newbalanceDest</th>\n",
       "      <th>isFraud</th>\n",
       "      <th>balance_diff_orig</th>\n",
       "      <th>is_suspicious_orig</th>\n",
       "      <th>balance_diff_dest</th>\n",
       "      <th>is_suspicious_dest</th>\n",
       "      <th>is_outlier</th>\n",
       "    </tr>\n",
       "  </thead>\n",
       "  <tbody>\n",
       "    <tr>\n",
       "      <th>0</th>\n",
       "      <td>6</td>\n",
       "      <td>PAYMENT</td>\n",
       "      <td>33410.82</td>\n",
       "      <td>C1022823162</td>\n",
       "      <td>379355.65</td>\n",
       "      <td>345944.83</td>\n",
       "      <td>M1725760738</td>\n",
       "      <td>0.00</td>\n",
       "      <td>0.00</td>\n",
       "      <td>0</td>\n",
       "      <td>66821.64</td>\n",
       "      <td>True</td>\n",
       "      <td>33410.82</td>\n",
       "      <td>True</td>\n",
       "      <td>False</td>\n",
       "    </tr>\n",
       "    <tr>\n",
       "      <th>1</th>\n",
       "      <td>4</td>\n",
       "      <td>DEBIT</td>\n",
       "      <td>1141.74</td>\n",
       "      <td>C308221618</td>\n",
       "      <td>240677.00</td>\n",
       "      <td>239535.26</td>\n",
       "      <td>C1182461167</td>\n",
       "      <td>29379.28</td>\n",
       "      <td>30521.02</td>\n",
       "      <td>0</td>\n",
       "      <td>2283.48</td>\n",
       "      <td>True</td>\n",
       "      <td>0.00</td>\n",
       "      <td>False</td>\n",
       "      <td>False</td>\n",
       "    </tr>\n",
       "    <tr>\n",
       "      <th>2</th>\n",
       "      <td>1</td>\n",
       "      <td>PAYMENT</td>\n",
       "      <td>1146.72</td>\n",
       "      <td>C151515831</td>\n",
       "      <td>10248.00</td>\n",
       "      <td>9101.28</td>\n",
       "      <td>M1130160902</td>\n",
       "      <td>0.00</td>\n",
       "      <td>0.00</td>\n",
       "      <td>0</td>\n",
       "      <td>2293.44</td>\n",
       "      <td>True</td>\n",
       "      <td>1146.72</td>\n",
       "      <td>True</td>\n",
       "      <td>False</td>\n",
       "    </tr>\n",
       "    <tr>\n",
       "      <th>3</th>\n",
       "      <td>4</td>\n",
       "      <td>PAYMENT</td>\n",
       "      <td>1080.65</td>\n",
       "      <td>C1129874021</td>\n",
       "      <td>35125.00</td>\n",
       "      <td>34044.35</td>\n",
       "      <td>M1871079355</td>\n",
       "      <td>0.00</td>\n",
       "      <td>0.00</td>\n",
       "      <td>0</td>\n",
       "      <td>2161.30</td>\n",
       "      <td>True</td>\n",
       "      <td>1080.65</td>\n",
       "      <td>True</td>\n",
       "      <td>False</td>\n",
       "    </tr>\n",
       "    <tr>\n",
       "      <th>4</th>\n",
       "      <td>4</td>\n",
       "      <td>CASH_IN</td>\n",
       "      <td>382513.35</td>\n",
       "      <td>C1178953630</td>\n",
       "      <td>4084533.87</td>\n",
       "      <td>4467047.21</td>\n",
       "      <td>C914293025</td>\n",
       "      <td>501046.14</td>\n",
       "      <td>189527.57</td>\n",
       "      <td>0</td>\n",
       "      <td>0.01</td>\n",
       "      <td>False</td>\n",
       "      <td>694031.92</td>\n",
       "      <td>True</td>\n",
       "      <td>True</td>\n",
       "    </tr>\n",
       "  </tbody>\n",
       "</table>\n",
       "</div>"
      ],
      "text/plain": [
       "   step     type     amount     nameOrig  oldbalanceOrg  newbalanceOrig  \\\n",
       "0     6  PAYMENT   33410.82  C1022823162      379355.65       345944.83   \n",
       "1     4    DEBIT    1141.74   C308221618      240677.00       239535.26   \n",
       "2     1  PAYMENT    1146.72   C151515831       10248.00         9101.28   \n",
       "3     4  PAYMENT    1080.65  C1129874021       35125.00        34044.35   \n",
       "4     4  CASH_IN  382513.35  C1178953630     4084533.87      4467047.21   \n",
       "\n",
       "      nameDest  oldbalanceDest  newbalanceDest  isFraud  balance_diff_orig  \\\n",
       "0  M1725760738            0.00            0.00        0           66821.64   \n",
       "1  C1182461167        29379.28        30521.02        0            2283.48   \n",
       "2  M1130160902            0.00            0.00        0            2293.44   \n",
       "3  M1871079355            0.00            0.00        0            2161.30   \n",
       "4   C914293025       501046.14       189527.57        0               0.01   \n",
       "\n",
       "   is_suspicious_orig  balance_diff_dest  is_suspicious_dest  is_outlier  \n",
       "0                True           33410.82                True       False  \n",
       "1                True               0.00               False       False  \n",
       "2                True            1146.72                True       False  \n",
       "3                True            1080.65                True       False  \n",
       "4               False          694031.92                True        True  "
      ]
     },
     "execution_count": 69,
     "metadata": {},
     "output_type": "execute_result"
    }
   ],
   "source": [
    "df_cleaned.head()"
   ]
  },
  {
   "cell_type": "code",
   "execution_count": 71,
   "id": "43fd6b78-375b-44b0-beaf-2a6e750c120e",
   "metadata": {},
   "outputs": [],
   "source": [
    "df = df.drop_duplicates()"
   ]
  },
  {
   "cell_type": "code",
   "execution_count": 73,
   "id": "63162bed-50cf-4b6e-95b6-74867c6d287f",
   "metadata": {},
   "outputs": [
    {
     "name": "stdout",
     "output_type": "stream",
     "text": [
      "Current Dataset Shape: (11142, 15)\n",
      "Non-Fraudulent Transactions: 10000\n",
      "Fraudulent Transactions: 1142\n",
      "Current Fraud Rate: 10.249506372285047 %\n"
     ]
    }
   ],
   "source": [
    "#  Verify current dataset size after duplicates\n",
    "print(\"Current Dataset Shape:\", df.shape)\n",
    "print(\"Non-Fraudulent Transactions:\", len(df[df['isFraud'] == 0]))\n",
    "print(\"Fraudulent Transactions:\", len(df[df['isFraud'] == 1]))\n",
    "print(\"Current Fraud Rate:\", df['isFraud'].mean() * 100, \"%\")"
   ]
  },
  {
   "cell_type": "code",
   "execution_count": 75,
   "id": "fe633cdf-0c9a-455f-9f86-9fb3a0af74c5",
   "metadata": {},
   "outputs": [
    {
     "name": "stdout",
     "output_type": "stream",
     "text": [
      "New Dataset Shape: (10115, 15)\n",
      "New Fraud Rate: 1.1369253583786456 %\n",
      "Number of Fraud Cases: 115\n",
      "Balanced dataset saved as 'balanced_fraud_dataset.csv'\n"
     ]
    }
   ],
   "source": [
    "# Downsample to ~1.14% fraud rate with available data\n",
    "n_non_fraud = len(df[df['isFraud'] == 0])  # Use all available non-fraud\n",
    "n_fraud = int((n_non_fraud / 0.9886) * 0.0114)  # Calculate fraud to get ~1.14%\n",
    "df_non_fraud = df[df['isFraud'] == 0].sample(n=n_non_fraud, random_state=42)\n",
    "df_fraud = df[df['isFraud'] == 1].sample(n=min(n_fraud, len(df[df['isFraud'] == 1])), random_state=42)\n",
    "df_balanced = pd.concat([df_non_fraud, df_fraud])\n",
    "print(\"New Dataset Shape:\", df_balanced.shape)\n",
    "print(\"New Fraud Rate:\", df_balanced['isFraud'].mean() * 100, \"%\")\n",
    "print(\"Number of Fraud Cases:\", df_balanced['isFraud'].sum())\n",
    "df_balanced.to_csv('balanced_fraud_dataset.csv', index=False)\n",
    "print(\"Balanced dataset saved as 'balanced_fraud_dataset.csv'\")"
   ]
  },
  {
   "cell_type": "code",
   "execution_count": 77,
   "id": "97c10048-610a-47d7-b5c6-4d98c492a249",
   "metadata": {},
   "outputs": [],
   "source": [
    "df_balanced = pd.read_csv('balanced_fraud_dataset.csv')"
   ]
  },
  {
   "cell_type": "code",
   "execution_count": 79,
   "id": "374db898-a059-4562-8696-f081345040f4",
   "metadata": {},
   "outputs": [],
   "source": [
    "df_balanced['is_merchant'] = df_balanced['nameDest'].str.startswith('M')"
   ]
  },
  {
   "cell_type": "code",
   "execution_count": 81,
   "id": "975b13a8-4608-41d3-93fb-0e3327331304",
   "metadata": {},
   "outputs": [],
   "source": [
    "df_balanced['is_zero_orig'] = (df_balanced['newbalanceOrig'] == 0) & (df_balanced['oldbalanceOrg'] > 0)\n",
    "df_balanced['is_large_trans'] = (df_balanced['amount'] > df_balanced['amount'].quantile(0.95))"
   ]
  },
  {
   "cell_type": "code",
   "execution_count": 83,
   "id": "768ab2a3-f5f7-4e44-9144-e127f9a03585",
   "metadata": {},
   "outputs": [],
   "source": [
    "df_balanced['transfer_to_cashout'] = (\n",
    "    (df_balanced['type'] == 'TRANSFER') & \n",
    "    (df_balanced['nameDest'].shift(-1).str.startswith('C')) &  # Next recipient is a customer\n",
    "    (df_balanced['type'].shift(-1) == 'CASH_OUT') & \n",
    "    (df_balanced['amount'] > 0)  # Ensure valid transaction\n",
    ").astype(int)"
   ]
  },
  {
   "cell_type": "code",
   "execution_count": 85,
   "id": "4be7825d-6651-4439-88ce-9c03f566a5e0",
   "metadata": {},
   "outputs": [
    {
     "name": "stdout",
     "output_type": "stream",
     "text": [
      "Sample with New Features:\n",
      "    step      type     amount     nameDest  is_merchant  is_zero_orig  \\\n",
      "0     6   PAYMENT   33410.82  M1725760738         True         False   \n",
      "1     4     DEBIT    1141.74  C1182461167        False         False   \n",
      "2     1   PAYMENT    1146.72  M1130160902         True         False   \n",
      "3     4   PAYMENT    1080.65  M1871079355         True         False   \n",
      "4     4   CASH_IN  382513.35   C914293025        False         False   \n",
      "5     6   PAYMENT     379.90  M1931130011         True         False   \n",
      "6     1   PAYMENT    6131.21   M515273883         True         False   \n",
      "7     5   PAYMENT    2588.64   M542202332         True         False   \n",
      "8     6  CASH_OUT  118961.45   C194746285        False         False   \n",
      "9     1   CASH_IN   13289.87  C1225616405        False         False   \n",
      "\n",
      "   is_large_trans  transfer_to_cashout  isFraud  \n",
      "0           False                    0        0  \n",
      "1           False                    0        0  \n",
      "2           False                    0        0  \n",
      "3           False                    0        0  \n",
      "4           False                    0        0  \n",
      "5           False                    0        0  \n",
      "6           False                    0        0  \n",
      "7           False                    0        0  \n",
      "8           False                    0        0  \n",
      "9           False                    0        0  \n",
      "Updated dataset saved as 'balanced_fraud_dataset.csv'\n"
     ]
    }
   ],
   "source": [
    "print(\"Sample with New Features:\\n\", df_balanced[['step', 'type', 'amount', 'nameDest', 'is_merchant', 'is_zero_orig', 'is_large_trans', 'transfer_to_cashout', 'isFraud']].head(10))\n",
    "df_balanced.to_csv('balanced_fraud_dataset.csv', index=False)  # Save updated dataset\n",
    "print(\"Updated dataset saved as 'balanced_fraud_dataset.csv'\")"
   ]
  },
  {
   "cell_type": "code",
   "execution_count": 87,
   "id": "ea15a624-61b7-4dac-92f3-a112ec797e75",
   "metadata": {},
   "outputs": [
    {
     "name": "stdout",
     "output_type": "stream",
     "text": [
      "Dataset Shape: (10115, 19)\n",
      "Fraud Rate: 1.1369253583786456 %\n",
      "Number of Fraud Cases: 115\n",
      "Number of balance discrepancies: 10115\n",
      "Validation Complete! Data is ready if fraud rate is ~1.14% and discrepancies align with merchant data.\n"
     ]
    }
   ],
   "source": [
    "#  Validate the updated balanced dataset\n",
    "df_cleaned = pd.read_csv('balanced_fraud_dataset.csv')\n",
    "print(\"Dataset Shape:\", df_cleaned.shape)\n",
    "print(\"Fraud Rate:\", df_cleaned['isFraud'].mean() * 100, \"%\")\n",
    "print(\"Number of Fraud Cases:\", df_cleaned['isFraud'].sum())\n",
    "balance_issues = df_cleaned[(df_cleaned['balance_diff_orig'].abs() > 0.01) | (df_cleaned['balance_diff_dest'].abs() > 0.01)]\n",
    "print(\"Number of balance discrepancies:\", len(balance_issues))\n",
    "print(\"Validation Complete! Data is ready if fraud rate is ~1.14% and discrepancies align with merchant data.\")"
   ]
  },
  {
   "cell_type": "code",
   "execution_count": 89,
   "id": "55f46a35-29fb-49f9-bb4f-36c22bb82e0b",
   "metadata": {},
   "outputs": [],
   "source": [
    "df_balanced = df_balanced.sort_values('step')"
   ]
  },
  {
   "cell_type": "code",
   "execution_count": null,
   "id": "2a574d32-5428-43c7-a190-aaf84a84f6ae",
   "metadata": {},
   "outputs": [],
   "source": []
  }
 ],
 "metadata": {
  "kernelspec": {
   "display_name": "Python 3 (ipykernel)",
   "language": "python",
   "name": "python3"
  },
  "language_info": {
   "codemirror_mode": {
    "name": "ipython",
    "version": 3
   },
   "file_extension": ".py",
   "mimetype": "text/x-python",
   "name": "python",
   "nbconvert_exporter": "python",
   "pygments_lexer": "ipython3",
   "version": "3.12.7"
  }
 },
 "nbformat": 4,
 "nbformat_minor": 5
}
